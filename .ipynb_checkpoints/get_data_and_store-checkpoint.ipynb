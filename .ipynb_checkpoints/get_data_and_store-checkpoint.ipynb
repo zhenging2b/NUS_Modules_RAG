{
 "cells": [
  {
   "cell_type": "code",
   "execution_count": 5,
   "id": "fb568cba-eb7b-4512-a2de-75f55ea82f7e",
   "metadata": {},
   "outputs": [
    {
     "ename": "JSONDecodeError",
     "evalue": "Expecting value: line 1 column 1 (char 0)",
     "output_type": "error",
     "traceback": [
      "\u001b[31m---------------------------------------------------------------------------\u001b[39m",
      "\u001b[31mJSONDecodeError\u001b[39m                           Traceback (most recent call last)",
      "\u001b[36mFile \u001b[39m\u001b[32m~\\anaconda3\\envs\\langchain\\Lib\\site-packages\\requests\\models.py:976\u001b[39m, in \u001b[36mResponse.json\u001b[39m\u001b[34m(self, **kwargs)\u001b[39m\n\u001b[32m    975\u001b[39m \u001b[38;5;28;01mtry\u001b[39;00m:\n\u001b[32m--> \u001b[39m\u001b[32m976\u001b[39m     \u001b[38;5;28;01mreturn\u001b[39;00m complexjson.loads(\u001b[38;5;28mself\u001b[39m.text, **kwargs)\n\u001b[32m    977\u001b[39m \u001b[38;5;28;01mexcept\u001b[39;00m JSONDecodeError \u001b[38;5;28;01mas\u001b[39;00m e:\n\u001b[32m    978\u001b[39m     \u001b[38;5;66;03m# Catch JSON-related errors and raise as requests.JSONDecodeError\u001b[39;00m\n\u001b[32m    979\u001b[39m     \u001b[38;5;66;03m# This aliases json.JSONDecodeError and simplejson.JSONDecodeError\u001b[39;00m\n",
      "\u001b[36mFile \u001b[39m\u001b[32m~\\anaconda3\\envs\\langchain\\Lib\\json\\__init__.py:346\u001b[39m, in \u001b[36mloads\u001b[39m\u001b[34m(s, cls, object_hook, parse_float, parse_int, parse_constant, object_pairs_hook, **kw)\u001b[39m\n\u001b[32m    343\u001b[39m \u001b[38;5;28;01mif\u001b[39;00m (\u001b[38;5;28mcls\u001b[39m \u001b[38;5;129;01mis\u001b[39;00m \u001b[38;5;28;01mNone\u001b[39;00m \u001b[38;5;129;01mand\u001b[39;00m object_hook \u001b[38;5;129;01mis\u001b[39;00m \u001b[38;5;28;01mNone\u001b[39;00m \u001b[38;5;129;01mand\u001b[39;00m\n\u001b[32m    344\u001b[39m         parse_int \u001b[38;5;129;01mis\u001b[39;00m \u001b[38;5;28;01mNone\u001b[39;00m \u001b[38;5;129;01mand\u001b[39;00m parse_float \u001b[38;5;129;01mis\u001b[39;00m \u001b[38;5;28;01mNone\u001b[39;00m \u001b[38;5;129;01mand\u001b[39;00m\n\u001b[32m    345\u001b[39m         parse_constant \u001b[38;5;129;01mis\u001b[39;00m \u001b[38;5;28;01mNone\u001b[39;00m \u001b[38;5;129;01mand\u001b[39;00m object_pairs_hook \u001b[38;5;129;01mis\u001b[39;00m \u001b[38;5;28;01mNone\u001b[39;00m \u001b[38;5;129;01mand\u001b[39;00m \u001b[38;5;129;01mnot\u001b[39;00m kw):\n\u001b[32m--> \u001b[39m\u001b[32m346\u001b[39m     \u001b[38;5;28;01mreturn\u001b[39;00m _default_decoder.decode(s)\n\u001b[32m    347\u001b[39m \u001b[38;5;28;01mif\u001b[39;00m \u001b[38;5;28mcls\u001b[39m \u001b[38;5;129;01mis\u001b[39;00m \u001b[38;5;28;01mNone\u001b[39;00m:\n",
      "\u001b[36mFile \u001b[39m\u001b[32m~\\anaconda3\\envs\\langchain\\Lib\\json\\decoder.py:338\u001b[39m, in \u001b[36mJSONDecoder.decode\u001b[39m\u001b[34m(self, s, _w)\u001b[39m\n\u001b[32m    334\u001b[39m \u001b[38;5;250m\u001b[39m\u001b[33;03m\"\"\"Return the Python representation of ``s`` (a ``str`` instance\u001b[39;00m\n\u001b[32m    335\u001b[39m \u001b[33;03mcontaining a JSON document).\u001b[39;00m\n\u001b[32m    336\u001b[39m \n\u001b[32m    337\u001b[39m \u001b[33;03m\"\"\"\u001b[39;00m\n\u001b[32m--> \u001b[39m\u001b[32m338\u001b[39m obj, end = \u001b[38;5;28mself\u001b[39m.raw_decode(s, idx=_w(s, \u001b[32m0\u001b[39m).end())\n\u001b[32m    339\u001b[39m end = _w(s, end).end()\n",
      "\u001b[36mFile \u001b[39m\u001b[32m~\\anaconda3\\envs\\langchain\\Lib\\json\\decoder.py:356\u001b[39m, in \u001b[36mJSONDecoder.raw_decode\u001b[39m\u001b[34m(self, s, idx)\u001b[39m\n\u001b[32m    355\u001b[39m \u001b[38;5;28;01mexcept\u001b[39;00m \u001b[38;5;167;01mStopIteration\u001b[39;00m \u001b[38;5;28;01mas\u001b[39;00m err:\n\u001b[32m--> \u001b[39m\u001b[32m356\u001b[39m     \u001b[38;5;28;01mraise\u001b[39;00m JSONDecodeError(\u001b[33m\"\u001b[39m\u001b[33mExpecting value\u001b[39m\u001b[33m\"\u001b[39m, s, err.value) \u001b[38;5;28;01mfrom\u001b[39;00m\u001b[38;5;250m \u001b[39m\u001b[38;5;28;01mNone\u001b[39;00m\n\u001b[32m    357\u001b[39m \u001b[38;5;28;01mreturn\u001b[39;00m obj, end\n",
      "\u001b[31mJSONDecodeError\u001b[39m: Expecting value: line 1 column 1 (char 0)",
      "\nDuring handling of the above exception, another exception occurred:\n",
      "\u001b[31mJSONDecodeError\u001b[39m                           Traceback (most recent call last)",
      "\u001b[36mCell\u001b[39m\u001b[36m \u001b[39m\u001b[32mIn[5]\u001b[39m\u001b[32m, line 13\u001b[39m\n\u001b[32m     11\u001b[39m         \u001b[38;5;28mprint\u001b[39m(\u001b[33m\"\u001b[39m\u001b[33mSomething went wrong\u001b[39m\u001b[33m\"\u001b[39m)\n\u001b[32m     12\u001b[39m         \u001b[38;5;28;01mreturn\u001b[39;00m data\n\u001b[32m---> \u001b[39m\u001b[32m13\u001b[39m data = get_nus_module()\n",
      "\u001b[36mCell\u001b[39m\u001b[36m \u001b[39m\u001b[32mIn[5]\u001b[39m\u001b[32m, line 8\u001b[39m, in \u001b[36mget_nus_module\u001b[39m\u001b[34m()\u001b[39m\n\u001b[32m      6\u001b[39m response = requests.get(url)\n\u001b[32m      7\u001b[39m \u001b[38;5;28;01mif\u001b[39;00m response.status_code == \u001b[32m200\u001b[39m:\n\u001b[32m----> \u001b[39m\u001b[32m8\u001b[39m     data = response.json()\n\u001b[32m      9\u001b[39m     \u001b[38;5;28;01mreturn\u001b[39;00m data\n\u001b[32m     10\u001b[39m \u001b[38;5;28;01melse\u001b[39;00m:\n",
      "\u001b[36mFile \u001b[39m\u001b[32m~\\anaconda3\\envs\\langchain\\Lib\\site-packages\\requests\\models.py:980\u001b[39m, in \u001b[36mResponse.json\u001b[39m\u001b[34m(self, **kwargs)\u001b[39m\n\u001b[32m    976\u001b[39m     \u001b[38;5;28;01mreturn\u001b[39;00m complexjson.loads(\u001b[38;5;28mself\u001b[39m.text, **kwargs)\n\u001b[32m    977\u001b[39m \u001b[38;5;28;01mexcept\u001b[39;00m JSONDecodeError \u001b[38;5;28;01mas\u001b[39;00m e:\n\u001b[32m    978\u001b[39m     \u001b[38;5;66;03m# Catch JSON-related errors and raise as requests.JSONDecodeError\u001b[39;00m\n\u001b[32m    979\u001b[39m     \u001b[38;5;66;03m# This aliases json.JSONDecodeError and simplejson.JSONDecodeError\u001b[39;00m\n\u001b[32m--> \u001b[39m\u001b[32m980\u001b[39m     \u001b[38;5;28;01mraise\u001b[39;00m RequestsJSONDecodeError(e.msg, e.doc, e.pos)\n",
      "\u001b[31mJSONDecodeError\u001b[39m: Expecting value: line 1 column 1 (char 0)"
     ]
    }
   ],
   "source": [
    "import requests\n",
    "\n",
    "\n",
    "def get_nus_module():\n",
    "    url = \"https://api.nusmods.com/v2/#/Modules/2025-2026/moduleInfo.json\"\n",
    "    response = requests.get(url)\n",
    "    if response.status_code == 200:\n",
    "        data = response.json()\n",
    "        return data\n",
    "    else:\n",
    "        print(\"Something went wrong\")\n",
    "        return data\n",
    "data = get_nus_module()"
   ]
  },
  {
   "cell_type": "code",
   "execution_count": 6,
   "id": "4b050e72-139e-49e5-b943-ec9a909ce0c5",
   "metadata": {},
   "outputs": [],
   "source": [
    "url = \"https://api.nusmods.com/v2/2025-2026/moduleInfo.json\"\n",
    "data = requests.get(url)"
   ]
  },
  {
   "cell_type": "code",
   "execution_count": 7,
   "id": "7feca8a6-7765-4dce-b77c-7e92a3f4357b",
   "metadata": {},
   "outputs": [
    {
     "data": {
      "text/plain": [
       "200"
      ]
     },
     "execution_count": 7,
     "metadata": {},
     "output_type": "execute_result"
    }
   ],
   "source": [
    "data.status_code"
   ]
  },
  {
   "cell_type": "code",
   "execution_count": 8,
   "id": "4c155d25-6502-4713-bb66-5c0316a37537",
   "metadata": {},
   "outputs": [
    {
     "data": {
      "text/plain": [
       "16456"
      ]
     },
     "execution_count": 8,
     "metadata": {},
     "output_type": "execute_result"
    }
   ],
   "source": [
    "len(data.json())"
   ]
  },
  {
   "cell_type": "code",
   "execution_count": 10,
   "id": "0ab3a4cf-c57f-4e14-bfa5-605df0d12485",
   "metadata": {},
   "outputs": [],
   "source": [
    "import json\n",
    "with open(\"module.json\", \"w\") as outfile:\n",
    "    json.dump(data.json(), outfile)"
   ]
  },
  {
   "cell_type": "markdown",
   "id": "36c17d4a-0da0-439a-9b60-49b702af738b",
   "metadata": {},
   "source": [
    "# Read and Filter Json"
   ]
  },
  {
   "cell_type": "code",
   "execution_count": 11,
   "id": "558b625c-7835-402d-b7fc-865d5bb8c3aa",
   "metadata": {},
   "outputs": [
    {
     "data": {
      "text/plain": [
       "16456"
      ]
     },
     "execution_count": 11,
     "metadata": {},
     "output_type": "execute_result"
    }
   ],
   "source": [
    "import json\n",
    "with open(\"module.json\", \"r\") as file:\n",
    "    data = json.load(file)\n",
    "len(data)"
   ]
  },
  {
   "cell_type": "code",
   "execution_count": 13,
   "id": "5c35d75b-0fcf-4ee8-b77d-082bdc9369b6",
   "metadata": {},
   "outputs": [],
   "source": [
    "computing_modules = [\n",
    "    x for x in data\n",
    "    if x['faculty'] == 'Computing' and int(''.join(filter(str.isdigit, x[\"moduleCode\"]))) >= 4000\n",
    "]\n"
   ]
  },
  {
   "cell_type": "code",
   "execution_count": 15,
   "id": "7584a816-088a-4887-9233-d5937e2dfad8",
   "metadata": {},
   "outputs": [
    {
     "data": {
      "text/plain": [
       "[{'moduleCode': 'AI5201',\n",
       "  'title': 'Executive Mastery of Artificial Intelligence: Foundations and Strategies',\n",
       "  'description': 'This course equips leaders with the essential knowledge of AI principles, technologies, and applications critical for strategic decision-making. This course covers AI and machine learning fundamentals, and the integration of AI with business strategies to drive innovation and efficiency. Designed for executives, it provides the insights needed to navigate the AI landscape, fostering a culture of innovation within organizations.',\n",
       "  'moduleCredit': '4',\n",
       "  'department': 'Information Systems and Analytics',\n",
       "  'faculty': 'Computing',\n",
       "  'workload': [2, 1, 0, 5, 2],\n",
       "  'gradingBasisDescription': 'Graded',\n",
       "  'semesterData': [{'semester': 2, 'covidZones': ['A']}]},\n",
       " {'moduleCode': 'AI5202',\n",
       "  'title': 'Strategic Applications of Generative AI for Executives',\n",
       "  'description': 'This course equips leaders with insights into the transformative power of generative artificial intelligence (AI) in the business realm. This course delves into the core principles of generative AI, including the machine learning model such as GPT, and its strategic applications across various industries. Participants will explore innovative uses in product development, content creation, decision-making, and customer engagement. Through case studies and practical examples, executives will learn to leverage generative AI to drive innovation, enhance competitiveness, and address ethical considerations. This course is essential for leaders aiming to capitalize on AI-driven opportunities in the digital age.',\n",
       "  'moduleCredit': '4',\n",
       "  'department': 'Information Systems and Analytics',\n",
       "  'faculty': 'Computing',\n",
       "  'workload': [2, 1, 0, 5, 2],\n",
       "  'gradingBasisDescription': 'Graded',\n",
       "  'semesterData': [{'semester': 2, 'covidZones': ['A']}]},\n",
       " {'moduleCode': 'AI5203',\n",
       "  'title': 'Business Intelligence & Data Analytics for Executives',\n",
       "  'description': 'This course empowers leaders to harness data-driven insights for strategic decision-making. Covering the fundamentals of business intelligence (BI) systems, data analytics processes, and visualization techniques, it emphasizes practical applications in operational, financial, and market analysis. Executives will explore advanced topics including database and data warehousing, data engineering, data visualization technologies, and predictive analytics and their integration with IT technologies to drive innovation, efficiency, and competitive advantage in today’s digital economy.',\n",
       "  'moduleCredit': '4',\n",
       "  'department': 'Information Systems and Analytics',\n",
       "  'faculty': 'Computing',\n",
       "  'workload': [2, 1, 0, 5, 2],\n",
       "  'gradingBasisDescription': 'Graded',\n",
       "  'semesterData': []},\n",
       " {'moduleCode': 'AI5204',\n",
       "  'title': 'AI-Driven Digital Transformation: Strategies and Implementations',\n",
       "  'description': 'AI-Driven Digital Transformation: Strategies and Implementations\" explores the integration of artificial intelligence (AI) into digital transformation strategies across various business sectors. This course covers critical topics such as AI technology fundamentals, data-driven decision making, AI application in enhancing customer experience, operational efficiency, and creating competitive advantages. Through case studies and real-world examples, students will learn how to effectively implement and manage AI technologies within their organizations.',\n",
       "  'moduleCredit': '4',\n",
       "  'department': 'Information Systems and Analytics',\n",
       "  'faculty': 'Computing',\n",
       "  'workload': [2, 1, 0, 5, 2],\n",
       "  'gradingBasisDescription': 'Graded',\n",
       "  'semesterData': [{'semester': 2, 'covidZones': ['Unknown']}]},\n",
       " {'moduleCode': 'AI5205',\n",
       "  'title': 'Ethics, Governance, and Compliance in AI and Emerging Technologies',\n",
       "  'description': 'This course addresses the crucial need for ethical leadership and compliance in the rapidly evolving domains of AI and Blockchain technology. This course explores foundational ethical principles, governance frameworks, and regulatory considerations essential for executives navigating these technologies. Key topics include ethical AI use, blockchain transparency, data privacy, regulatory compliance, and the societal impacts of technological advancements. Through case studies and industry examples, leaders will learn to implement responsible practices that align with global standards and foster trust and integrity in AI and blockchain initiatives.',\n",
       "  'moduleCredit': '4',\n",
       "  'department': 'Information Systems and Analytics',\n",
       "  'faculty': 'Computing',\n",
       "  'workload': [2, 1, 0, 5, 2],\n",
       "  'preclusion': 'If undertaking an Undergraduate Degree, Graduate Degree Coursework or Graduate Degree Research THEN ( must not have completed FT5012 at a grade of at least D)',\n",
       "  'gradingBasisDescription': 'Graded',\n",
       "  'semesterData': [{'semester': 2, 'covidZones': ['Unknown']}]}]"
      ]
     },
     "execution_count": 15,
     "metadata": {},
     "output_type": "execute_result"
    }
   ],
   "source": [
    "computing_modules[:5]"
   ]
  },
  {
   "cell_type": "markdown",
   "id": "00acb890-ceea-4a73-b055-c759c753d542",
   "metadata": {},
   "source": [
    "# Adding into Langchain documents\n",
    "Try without semester data first"
   ]
  },
  {
   "cell_type": "code",
   "execution_count": 16,
   "id": "fe158b99-5388-48b7-b563-adf3707a0b9b",
   "metadata": {},
   "outputs": [],
   "source": [
    "from langchain.schema import Document\n",
    "\n",
    "documents = []\n",
    "for x in computing_modules:\n",
    "    content = x[\"description\"]\n",
    "    metadata = {\n",
    "        \"modeuleCode\": x[\"moduleCode\"],\n",
    "        \"title\": x[\"title\"],\n",
    "        \"faculty\": x[\"faculty\"],\n",
    "        \"department\": x[\"department\"],\n",
    "        \"moduleCredit\": x[\"moduleCredit\"]\n",
    "        # \"semesterData\" : x[\"semesterData\"]\n",
    "    }\n",
    "    doc=Document(page_content=content, metadata = metadata)\n",
    "    documents.append(doc)"
   ]
  },
  {
   "cell_type": "code",
   "execution_count": 17,
   "id": "82abbcec-4b1a-4c38-9d90-1f3c67aa4327",
   "metadata": {},
   "outputs": [
    {
     "data": {
      "text/plain": [
       "308"
      ]
     },
     "execution_count": 17,
     "metadata": {},
     "output_type": "execute_result"
    }
   ],
   "source": [
    "len(documents)"
   ]
  },
  {
   "cell_type": "code",
   "execution_count": 18,
   "id": "09a9ddf2-b195-4cc4-8495-562a2794887f",
   "metadata": {},
   "outputs": [],
   "source": [
    "from langchain.vectorstores import Chroma\n",
    "# Try using huggingface embedding \n",
    "from langchain_huggingface import HuggingFaceEmbeddings\n",
    "\n",
    "embedding = HuggingFaceEmbeddings(model_name=\"sentence-transformers/all-mpnet-base-v2\")\n",
    "vectorstore = Chroma.from_documents(documents, embedding, persist_directory=\"./computing_modules_index\")"
   ]
  },
  {
   "cell_type": "code",
   "execution_count": 19,
   "id": "633ffee0-708b-441d-b2c7-465b041db14a",
   "metadata": {},
   "outputs": [
    {
     "name": "stderr",
     "output_type": "stream",
     "text": [
      "C:\\Users\\zheng\\AppData\\Local\\Temp\\ipykernel_11372\\3743868662.py:2: LangChainDeprecationWarning: The method `BaseRetriever.get_relevant_documents` was deprecated in langchain-core 0.1.46 and will be removed in 1.0. Use :meth:`~invoke` instead.\n",
      "  results = retriever.get_relevant_documents(\"Which modules are about generative AI for business leaders?\")\n"
     ]
    }
   ],
   "source": [
    "retriever = vectorstore.as_retriever()\n",
    "results = retriever.get_relevant_documents(\"Which modules are about generative AI for business leaders?\")"
   ]
  },
  {
   "cell_type": "code",
   "execution_count": 20,
   "id": "e0bd7a7f-1f64-483a-8b90-f3894cb3113b",
   "metadata": {},
   "outputs": [
    {
     "data": {
      "text/plain": [
       "[Document(metadata={'faculty': 'Computing', 'department': 'Information Systems and Analytics', 'moduleCredit': '4', 'modeuleCode': 'IS4401', 'title': 'Generative AI and Business Applications'}, page_content='Generative Artificial Intelligence (generative AI) has the ability to create new content such as text, image audio and video. Generative AI thus possesses an immense potential for creating business innovations and improving productivity. This course teaches students the underpinnings of generative AI models and to understand how to evaluate and choose the most appropriate model to solve a real-world problem. More importantly, students will also learn how to create generative AI applications using various approaches such as training custom models, using pretrained models and working with APIs. The course will also expose students to various emerging business applications of generative AI as part of the solutioning process.'),\n",
       " Document(metadata={'moduleCredit': '4', 'department': 'Information Systems and Analytics', 'modeuleCode': 'AI5202', 'title': 'Strategic Applications of Generative AI for Executives', 'faculty': 'Computing'}, page_content='This course equips leaders with insights into the transformative power of generative artificial intelligence (AI) in the business realm. This course delves into the core principles of generative AI, including the machine learning model such as GPT, and its strategic applications across various industries. Participants will explore innovative uses in product development, content creation, decision-making, and customer engagement. Through case studies and practical examples, executives will learn to leverage generative AI to drive innovation, enhance competitiveness, and address ethical considerations. This course is essential for leaders aiming to capitalize on AI-driven opportunities in the digital age.'),\n",
       " Document(metadata={'department': 'Information Systems and Analytics', 'modeuleCode': 'AI5201', 'faculty': 'Computing', 'moduleCredit': '4', 'title': 'Executive Mastery of Artificial Intelligence: Foundations and Strategies'}, page_content='This course equips leaders with the essential knowledge of AI principles, technologies, and applications critical for strategic decision-making. This course covers AI and machine learning fundamentals, and the integration of AI with business strategies to drive innovation and efficiency. Designed for executives, it provides the insights needed to navigate the AI landscape, fostering a culture of innovation within organizations.'),\n",
       " Document(metadata={'moduleCredit': '8', 'title': 'Capstone Project', 'modeuleCode': 'AI5212', 'faculty': 'Computing', 'department': 'Information Systems and Analytics'}, page_content=\"The Capstone Project is a culminating course for the Executive Master's in AI and Digital Innovations, offering students the opportunity to apply their learning to real-world business challenges. Integrating concepts from AI, digital transformation, and innovative technologies, participants will work in teams to design, develop, and implement a project that addresses a significant issue in their industry. This intensive experience mirrors strategic decision-making and innovation at the executive level, ensuring practical application of theoretical knowledge.\")]"
      ]
     },
     "execution_count": 20,
     "metadata": {},
     "output_type": "execute_result"
    }
   ],
   "source": [
    "results"
   ]
  },
  {
   "cell_type": "code",
   "execution_count": 21,
   "id": "c89f742b-d3c5-4b75-8585-31593bd05951",
   "metadata": {},
   "outputs": [
    {
     "data": {
      "text/plain": [
       "[Document(metadata={'modeuleCode': 'CS6101', 'department': 'Computer Science', 'moduleCredit': '4', 'faculty': 'Computing', 'title': 'Exploration of Computer Science Research'}, page_content='This course introduces CS graduate students to various research areas in Computer Science. Study groups are organised for major research areas. Each study group provides a forum for students to read, present and discuss research papers, and acquire the basic research skills for literature review and critical comparison of existing work. Students will also gain a first experience in technical presentation and writing. This course will be graded as “Completed Satisfactory” or “Completed Unsatisfactory” (CS/CU).'),\n",
       " Document(metadata={'faculty': 'Computing', 'title': 'Foundation in Theoretical CS', 'department': 'Computer Science', 'modeuleCode': 'CS5201', 'moduleCredit': '0'}, page_content='The purpose of this course is to test the students on basic concepts in theoretical computer science. In particular, the students will be tested on the following areas. A. Design and Analysis of Algorithms B. Theory of Computation C. Programming Languages D. Logic and Formal Systems The respective undergraduate courses: CS3230, CS3231, CS3212, CS3234'),\n",
       " Document(metadata={'moduleCredit': '2', 'title': 'Lecture Series in Computer Science II', 'modeuleCode': 'CS6291', 'department': 'Computer Science', 'faculty': 'Computing'}, page_content='This seminar-style course exposes students to recent advances of a selected topic in computer science through readings and discussion. The selected topic varies from year-to-year. The course will be graded on a CS/CU basis.'),\n",
       " Document(metadata={'faculty': 'Computing', 'moduleCredit': '2', 'department': 'Computer Science', 'modeuleCode': 'CS6292', 'title': 'Lecture Series in Computer Science III'}, page_content='This seminar-style course exposes students to recent advances of a selected topic in computer science through readings and discussion. The selected topic varies from year-to-year. The course will be graded on a CS/CU basis.')]"
      ]
     },
     "execution_count": 21,
     "metadata": {},
     "output_type": "execute_result"
    }
   ],
   "source": [
    "retriever.batch(\n",
    "    [\n",
    "        \"What module teacch graph analysis?\"\n",
    "    ],\n",
    ")[0]"
   ]
  }
 ],
 "metadata": {
  "kernelspec": {
   "display_name": "langchain",
   "language": "python",
   "name": "langchain"
  },
  "language_info": {
   "codemirror_mode": {
    "name": "ipython",
    "version": 3
   },
   "file_extension": ".py",
   "mimetype": "text/x-python",
   "name": "python",
   "nbconvert_exporter": "python",
   "pygments_lexer": "ipython3",
   "version": "3.12.11"
  }
 },
 "nbformat": 4,
 "nbformat_minor": 5
}
