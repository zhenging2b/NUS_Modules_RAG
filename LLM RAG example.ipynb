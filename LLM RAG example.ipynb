{
 "cells": [
  {
   "cell_type": "markdown",
   "id": "897a1270-9f49-4a3f-ba05-c06407af583d",
   "metadata": {},
   "source": [
    "# Set up\n",
    "## Model (Gemini)"
   ]
  },
  {
   "cell_type": "code",
   "execution_count": 1,
   "id": "9710d846-06dd-4c04-a368-d4fccac96bdd",
   "metadata": {},
   "outputs": [
    {
     "name": "stdin",
     "output_type": "stream",
     "text": [
      " ········\n"
     ]
    }
   ],
   "source": [
    "import getpass\n",
    "import os\n",
    "\n",
    "os.environ[\"LANGSMITH_TRACING\"] = \"true\"\n",
    "os.environ[\"LANGSMITH_API_KEY\"] = getpass.getpass()"
   ]
  },
  {
   "cell_type": "code",
   "execution_count": 2,
   "id": "65a9fce9-b2c9-4ffd-8d94-c85abe0943d8",
   "metadata": {},
   "outputs": [
    {
     "name": "stdin",
     "output_type": "stream",
     "text": [
      "Enter API key for Google Gemini:  ········\n"
     ]
    }
   ],
   "source": [
    "import getpass\n",
    "import os\n",
    "\n",
    "if not os.environ.get(\"GOOGLE_API_KEY\"):\n",
    "  os.environ[\"GOOGLE_API_KEY\"] = getpass.getpass(\"Enter API key for Google Gemini: \")\n",
    "\n",
    "from langchain.chat_models import init_chat_model\n",
    "\n",
    "llm = init_chat_model(\"gemini-2.5-flash\", model_provider=\"google_genai\")"
   ]
  },
  {
   "cell_type": "markdown",
   "id": "fe0fcf9c-8c42-486a-9af3-5194b3ae9418",
   "metadata": {},
   "source": [
    "## Vector Store and embedding (Huggingface and Chroma)"
   ]
  },
  {
   "cell_type": "code",
   "execution_count": 3,
   "id": "38ca832c-7774-4f52-a42d-52d9b5568f7b",
   "metadata": {},
   "outputs": [
    {
     "name": "stderr",
     "output_type": "stream",
     "text": [
      "C:\\Users\\zheng\\AppData\\Local\\Temp\\ipykernel_14908\\788185801.py:5: LangChainDeprecationWarning: The class `Chroma` was deprecated in LangChain 0.2.9 and will be removed in 1.0. An updated version of the class exists in the :class:`~langchain-chroma package and should be used instead. To use it run `pip install -U :class:`~langchain-chroma` and import as `from :class:`~langchain_chroma import Chroma``.\n",
      "  vector_store = Chroma(\n"
     ]
    }
   ],
   "source": [
    "from langchain.vectorstores import Chroma\n",
    "from langchain_huggingface import HuggingFaceEmbeddings\n",
    "\n",
    "embedding = HuggingFaceEmbeddings(model_name=\"sentence-transformers/all-mpnet-base-v2\")\n",
    "vector_store = Chroma(\n",
    "    embedding_function=embedding,\n",
    "    persist_directory=\"./computing_modules_index\",  # where to load locally \n",
    ")"
   ]
  },
  {
   "cell_type": "code",
   "execution_count": 4,
   "id": "7503fb48-ecf8-494a-b740-d6a4451201e9",
   "metadata": {},
   "outputs": [
    {
     "name": "stderr",
     "output_type": "stream",
     "text": [
      "C:\\Users\\zheng\\AppData\\Local\\Temp\\ipykernel_14908\\1542722471.py:2: LangChainDeprecationWarning: The method `BaseRetriever.get_relevant_documents` was deprecated in langchain-core 0.1.46 and will be removed in 1.0. Use :meth:`~invoke` instead.\n",
      "  results = retriever.get_relevant_documents(\"Which modules are about generative AI for business leaders?\")\n"
     ]
    }
   ],
   "source": [
    "retriever = vector_store.as_retriever()\n",
    "results = retriever.get_relevant_documents(\"Which modules are about generative AI for business leaders?\")"
   ]
  },
  {
   "cell_type": "code",
   "execution_count": 5,
   "id": "c734fe3a-0ae4-4c8c-abd9-8d898f617a20",
   "metadata": {},
   "outputs": [
    {
     "data": {
      "text/plain": [
       "[Document(metadata={'modeuleCode': 'IS4401', 'department': 'Information Systems and Analytics', 'faculty': 'Computing', 'moduleCredit': '4', 'title': 'Generative AI and Business Applications'}, page_content='Generative Artificial Intelligence (generative AI) has the ability to create new content such as text, image audio and video. Generative AI thus possesses an immense potential for creating business innovations and improving productivity. This course teaches students the underpinnings of generative AI models and to understand how to evaluate and choose the most appropriate model to solve a real-world problem. More importantly, students will also learn how to create generative AI applications using various approaches such as training custom models, using pretrained models and working with APIs. The course will also expose students to various emerging business applications of generative AI as part of the solutioning process.'),\n",
       " Document(metadata={'faculty': 'Computing', 'modeuleCode': 'AI5202', 'title': 'Strategic Applications of Generative AI for Executives', 'department': 'Information Systems and Analytics', 'moduleCredit': '4'}, page_content='This course equips leaders with insights into the transformative power of generative artificial intelligence (AI) in the business realm. This course delves into the core principles of generative AI, including the machine learning model such as GPT, and its strategic applications across various industries. Participants will explore innovative uses in product development, content creation, decision-making, and customer engagement. Through case studies and practical examples, executives will learn to leverage generative AI to drive innovation, enhance competitiveness, and address ethical considerations. This course is essential for leaders aiming to capitalize on AI-driven opportunities in the digital age.'),\n",
       " Document(metadata={'title': 'Executive Mastery of Artificial Intelligence: Foundations and Strategies', 'moduleCredit': '4', 'department': 'Information Systems and Analytics', 'faculty': 'Computing', 'modeuleCode': 'AI5201'}, page_content='This course equips leaders with the essential knowledge of AI principles, technologies, and applications critical for strategic decision-making. This course covers AI and machine learning fundamentals, and the integration of AI with business strategies to drive innovation and efficiency. Designed for executives, it provides the insights needed to navigate the AI landscape, fostering a culture of innovation within organizations.'),\n",
       " Document(metadata={'department': 'Information Systems and Analytics', 'faculty': 'Computing', 'moduleCredit': '8', 'modeuleCode': 'AI5212', 'title': 'Capstone Project'}, page_content=\"The Capstone Project is a culminating course for the Executive Master's in AI and Digital Innovations, offering students the opportunity to apply their learning to real-world business challenges. Integrating concepts from AI, digital transformation, and innovative technologies, participants will work in teams to design, develop, and implement a project that addresses a significant issue in their industry. This intensive experience mirrors strategic decision-making and innovation at the executive level, ensuring practical application of theoretical knowledge.\")]"
      ]
     },
     "execution_count": 5,
     "metadata": {},
     "output_type": "execute_result"
    }
   ],
   "source": [
    "results"
   ]
  },
  {
   "cell_type": "code",
   "execution_count": 6,
   "id": "3a6896d5-5dfa-4c01-b9c7-ea617f235988",
   "metadata": {},
   "outputs": [
    {
     "data": {
      "text/plain": [
       "Document(metadata={'modeuleCode': 'IS4401', 'department': 'Information Systems and Analytics', 'faculty': 'Computing', 'moduleCredit': '4', 'title': 'Generative AI and Business Applications'}, page_content='Generative Artificial Intelligence (generative AI) has the ability to create new content such as text, image audio and video. Generative AI thus possesses an immense potential for creating business innovations and improving productivity. This course teaches students the underpinnings of generative AI models and to understand how to evaluate and choose the most appropriate model to solve a real-world problem. More importantly, students will also learn how to create generative AI applications using various approaches such as training custom models, using pretrained models and working with APIs. The course will also expose students to various emerging business applications of generative AI as part of the solutioning process.')"
      ]
     },
     "execution_count": 6,
     "metadata": {},
     "output_type": "execute_result"
    }
   ],
   "source": [
    "results[0]"
   ]
  },
  {
   "cell_type": "markdown",
   "id": "fb06298a-617c-4469-af85-9a6c5ac254a1",
   "metadata": {},
   "source": [
    "# RAG\n",
    "The following will be a simple demostartion on RAG"
   ]
  },
  {
   "cell_type": "code",
   "execution_count": 7,
   "id": "a0770c14-f334-40d1-934d-6d0422a123b5",
   "metadata": {},
   "outputs": [],
   "source": [
    "from langchain import hub\n",
    "prompt_template = hub.pull(\"rlm/rag-prompt\")"
   ]
  },
  {
   "cell_type": "code",
   "execution_count": 8,
   "id": "0e53cd23-ea5c-4c96-876a-0e7a0d1db6d7",
   "metadata": {},
   "outputs": [
    {
     "data": {
      "text/plain": [
       "ChatPromptTemplate(input_variables=['context', 'question'], input_types={}, partial_variables={}, metadata={'lc_hub_owner': 'rlm', 'lc_hub_repo': 'rag-prompt', 'lc_hub_commit_hash': '50442af133e61576e74536c6556cefe1fac147cad032f4377b60c436e6cdcb6e'}, messages=[HumanMessagePromptTemplate(prompt=PromptTemplate(input_variables=['context', 'question'], input_types={}, partial_variables={}, template=\"You are an assistant for question-answering tasks. Use the following pieces of retrieved context to answer the question. If you don't know the answer, just say that you don't know. Use three sentences maximum and keep the answer concise.\\nQuestion: {question} \\nContext: {context} \\nAnswer:\"), additional_kwargs={})])"
      ]
     },
     "execution_count": 8,
     "metadata": {},
     "output_type": "execute_result"
    }
   ],
   "source": [
    "prompt_template"
   ]
  },
  {
   "cell_type": "markdown",
   "id": "e42c4799-ef36-41a9-88c2-33d246ae3a83",
   "metadata": {},
   "source": [
    "### Short example"
   ]
  },
  {
   "cell_type": "code",
   "execution_count": 9,
   "id": "c55101b0-6cc7-407f-9da8-deaef1048142",
   "metadata": {},
   "outputs": [
    {
     "data": {
      "text/plain": [
       "HumanMessage(content=\"You are an assistant for question-answering tasks. Use the following pieces of retrieved context to answer the question. If you don't know the answer, just say that you don't know. Use three sentences maximum and keep the answer concise.\\nQuestion: Which modules are about generative AI for business leaders? \\nContext: Document(metadata={'moduleCredit': '4', 'department': 'Information Systems and Analytics', 'modeuleCode': 'IS4401', 'title': 'Generative AI and Business Applications', 'faculty': 'Computing'}, page_content='Generative Artificial Intelligence (generative AI) has the ability to create new content such as text, image audio and video. Generative AI thus possesses an immense potential for creating business innovations and improving productivity. This course teaches students the underpinnings of generative AI models and to understand how to evaluate and choose the most appropriate model to solve a real-world problem. More importantly, students will also learn how to create generative AI applications using various approaches such as training custom models, using pretrained models and working with APIs. The course will also expose students to various emerging business applications of generative AI as part of the solutioning process.') \\nAnswer:\", additional_kwargs={}, response_metadata={})"
      ]
     },
     "execution_count": 9,
     "metadata": {},
     "output_type": "execute_result"
    }
   ],
   "source": [
    "prompt = prompt_template.invoke({\"question\": \"Which modules are about generative AI for business leaders?\", \"context\":\"Document(metadata={'moduleCredit': '4', 'department': 'Information Systems and Analytics', 'modeuleCode': 'IS4401', 'title': 'Generative AI and Business Applications', 'faculty': 'Computing'}, page_content='Generative Artificial Intelligence (generative AI) has the ability to create new content such as text, image audio and video. Generative AI thus possesses an immense potential for creating business innovations and improving productivity. This course teaches students the underpinnings of generative AI models and to understand how to evaluate and choose the most appropriate model to solve a real-world problem. More importantly, students will also learn how to create generative AI applications using various approaches such as training custom models, using pretrained models and working with APIs. The course will also expose students to various emerging business applications of generative AI as part of the solutioning process.')\"})\n",
    "prompt.to_messages()[0]"
   ]
  },
  {
   "cell_type": "code",
   "execution_count": 10,
   "id": "3bb067de-f2b2-4056-b718-ec59cd0e6033",
   "metadata": {},
   "outputs": [
    {
     "data": {
      "text/plain": [
       "AIMessage(content='The module \"Generative AI and Business Applications\" (IS4401) is relevant to generative AI for business leaders. It explores the immense potential of generative AI for creating business innovations and improving productivity. The course also exposes students to various emerging business applications of generative AI.', additional_kwargs={}, response_metadata={'prompt_feedback': {'block_reason': 0, 'safety_ratings': []}, 'finish_reason': 'STOP', 'model_name': 'gemini-2.5-flash', 'safety_ratings': []}, id='run--954c9ae1-6797-455b-9703-5a01561e5c4d-0', usage_metadata={'input_tokens': 250, 'output_tokens': 650, 'total_tokens': 900, 'input_token_details': {'cache_read': 0}, 'output_token_details': {'reasoning': 594}})"
      ]
     },
     "execution_count": 10,
     "metadata": {},
     "output_type": "execute_result"
    }
   ],
   "source": [
    "response = llm.invoke(prompt)\n",
    "response"
   ]
  },
  {
   "cell_type": "markdown",
   "id": "09de5424-cabd-4eb4-b4fb-bd1e8778dc39",
   "metadata": {},
   "source": [
    "# Adding LangGraph\n",
    "LangGraph to tie retrieval and generation step into a single application, which will bring a number of benefits\n",
    "- define our application logic once and automatically support multiple invocation models, including streaming, async and batched calls\n",
    "- steamlined deployments via langgraph platform\n",
    "- langsmith will automatically trace the steps of our application together\n",
    "- easy to add key features to our application, including persistence and human-in-the-loop approval, with minimal code changes\n",
    "\n",
    "To use LangGraph, we need to define threee things:\n",
    "1. The state of our application\n",
    "2. The nodes of our applicaiton (applciation steps)\n",
    "3. The \"control flow\" of our application (ordering of the steps)\n",
    "\n",
    "State:\n",
    "The state of our application controls what data is input to the application, transferred between steps, and output by the application. It is typically a TypedDict, but can also be a Pydantic BaseModel.\n"
   ]
  },
  {
   "cell_type": "code",
   "execution_count": 11,
   "id": "13a45d5e-feb6-402b-bbf9-76d85b290413",
   "metadata": {},
   "outputs": [],
   "source": [
    "from langchain_core.documents import Document\n",
    "from typing_extensions import List, TypedDict\n",
    "\n",
    "\n",
    "class State(TypedDict):\n",
    "    question: str\n",
    "    context: List[Document]\n",
    "    answer: str\n",
    "    \n",
    "def retrieve(state: State):\n",
    "    retrieved_docs = vector_store.similarity_search(state[\"question\"])\n",
    "    return {\"context\": retrieved_docs}\n",
    "\n",
    "\n",
    "def generate(state: State):\n",
    "    docs_content = \"\\n\\n\".join(\n",
    "        f\"Code: {doc.metadata.get('modeuleCode')}\\n\"\n",
    "        f\"Title: {doc.metadata.get('title')}\\n\"\n",
    "        f\"Department: {doc.metadata.get('department')}\\n\"\n",
    "        f\"Faculty: {doc.metadata.get('faculty')}\\n\"\n",
    "        f\"Credits: {doc.metadata.get('moduleCredit')}\\n\"\n",
    "        f\"Description: {doc.page_content}\"\n",
    "        for doc in state[\"context\"])\n",
    "    messages = prompt_template.invoke({\"question\": state[\"question\"], \"context\": docs_content})\n",
    "    response = llm.invoke(messages)\n",
    "    return {\"answer\": response.content}"
   ]
  },
  {
   "cell_type": "code",
   "execution_count": 12,
   "id": "797e3ce1-418b-4862-b071-96b23d5fabde",
   "metadata": {},
   "outputs": [],
   "source": [
    "from langgraph.graph import START, StateGraph\n",
    "\n",
    "graph_builder = StateGraph(State).add_sequence([retrieve, generate])\n",
    "graph_builder.add_edge(START, \"retrieve\")\n",
    "graph = graph_builder.compile()"
   ]
  },
  {
   "cell_type": "code",
   "execution_count": 13,
   "id": "e4170e93-f7d4-4769-918c-191447ab7e77",
   "metadata": {},
   "outputs": [
    {
     "data": {
      "image/png": "[encoded data removed]",
      "text/plain": [
       "<IPython.core.display.Image object>"
      ]
     },
     "metadata": {},
     "output_type": "display_data"
    }
   ],
   "source": [
    "from IPython.display import Image, display\n",
    "\n",
    "display(Image(graph.get_graph().draw_mermaid_png()))"
   ]
  },
  {
   "cell_type": "code",
   "execution_count": 14,
   "id": "d0981ce6-ed4d-4556-a2e1-6a45c1c5bc80",
   "metadata": {},
   "outputs": [
    {
     "name": "stdout",
     "output_type": "stream",
     "text": [
      "Context: [Document(metadata={'moduleCredit': '4', 'title': 'Advanced Analytics with Big Data Technologies', 'faculty': 'Computing', 'department': 'Information Systems and Analytics', 'modeuleCode': 'BT4221'}, page_content='This course introduces students to key concepts in Big Data technologies, covering both foundational and emerging tools and practices. It explores the characteristics and challenges of handling large datasets in different environments. Students will develop practical skills in building and automating data pipelines, managing various forms of data processing, and applying advanced analytical techniques to derive business insights across diverse contexts. The course covers essential topics such as data storage, distributed processing and data streaming. By the end of the course, students will be equipped to apply advanced analytics using Big Data technologies to design and implement effective solutions.'), Document(metadata={'title': 'Practice in Big Data Systems for Data Science', 'moduleCredit': '2', 'department': 'Information Systems and Analytics', 'faculty': 'Computing', 'modeuleCode': 'BT5127'}, page_content='Data science incorporates varying elements and builds on techniques and theories from many fields, including statistics, data engineering, data mining, visualization, data warehousing, and high-performance computing systems with the goal of extracting meaning from big data and creating data products. Data science utilizes advanced computing systems such as Apache Hadoop and Spark to address big data challenges. In this course, students will learn various computing systems and optimization techniques that are used in data science with emphasis on the system building and algorithmic optimizations of these techniques.'), Document(metadata={'moduleCredit': '4', 'department': 'Computer Science', 'modeuleCode': 'CS4225', 'title': 'Big Data Systems for Data Science', 'faculty': 'Computing'}, page_content='Data science incorporates varying elements and builds on techniques and theories from many fields, including statistics, data engineering, data mining, visualization, data warehousing, and high-performance computing systems with the goal of extracting meaning from big data and creating data products. Data science utilizes advanced computing systems such as Apache Hadoop and Spark to address big data challenges. In this course, students will learn various computing systems and optimization techniques that are used in data science with emphasis on the system building and algorithmic optimizations of these techniques.'), Document(metadata={'department': 'Computer Science', 'title': 'Topics in Computer Science: Big Data Meets New Hardware', 'moduleCredit': '4', 'modeuleCode': 'CS6284', 'faculty': 'Computing'}, page_content='Recently, there has been a renewed interest in the area of big-data systems on emerging hardware. The opportunities and challenges from emerging big-data processing systems have been raised different scales, from a single machine to thousands of machines. The need for effectively utilizing computing resources creates new technologies and research directions: from conventional ones (e.g., cluster computing, in-memory computing), to more recent ones (e.g., GPGPU, many-core processors, NVRAM). This course will introduce students to the architecture, performance optimization and design of big data systems on various emerging high performance computing hardware including many-core processors and accelerators.')]\n",
      "\n",
      "\n",
      "Answer: The modules that teach about big data are BT4221: Advanced Analytics with Big Data Technologies, BT5127: Practice in Big Data Systems for Data Science, and CS4225: Big Data Systems for Data Science. Additionally, CS6284: Topics in Computer Science: Big Data Meets New Hardware also covers big data systems. These courses introduce key concepts, practical skills, and advanced computing systems for handling and analyzing large datasets.\n"
     ]
    }
   ],
   "source": [
    "result = graph.invoke({\"question\": \"What modules teach me about big data?\"})\n",
    "\n",
    "print(f\"Context: {result['context']}\\n\\n\")\n",
    "print(f\"Answer: {result['answer']}\")"
   ]
  },
  {
   "cell_type": "code",
   "execution_count": 15,
   "id": "2657a806-1e64-482d-970d-3ae8f798289a",
   "metadata": {},
   "outputs": [
    {
     "name": "stdout",
     "output_type": "stream",
     "text": [
      "Context: [Document(metadata={'title': 'Theory of Computation', 'department': 'Computer Science', 'faculty': 'Computing', 'modeuleCode': 'CS4232R', 'moduleCredit': '1'}, page_content='This 1-unit course adds a research component to the host course, enabling students to acquire more in-depth understanding of the research issues pertaining to the subject matter.'), Document(metadata={'moduleCredit': '1', 'modeuleCode': 'CS4246R', 'department': 'Computer Science', 'title': 'AI Planning and Decision Making', 'faculty': 'Computing'}, page_content='This 1-unit course adds a research component to the host course, enabling students to acquire more in-depth understanding of the research issues pertaining to the subject matter.'), Document(metadata={'faculty': 'Computing', 'modeuleCode': 'CS4234R', 'department': 'Computer Science', 'title': 'Optimisation Algorithms', 'moduleCredit': '1'}, page_content='This 1-MC course adds a research component to the host course, enabling students to acquire more in-depth understanding of the research issues pertaining to the subject matter.'), Document(metadata={'faculty': 'Computing', 'department': 'Computer Science', 'moduleCredit': '1', 'modeuleCode': 'CS4240R', 'title': 'Interaction Design for Virtual and Augmented Reality'}, page_content='This 1-MC course adds a research component to the host course, enabling students to acquire more in-depth understanding of the research issues pertaining to the subject matter.')]\n",
      "\n",
      "\n",
      "Answer: I don't know what BT4222 teaches. The provided context does not contain any information about a course with the code BT4222.\n"
     ]
    }
   ],
   "source": [
    "result = graph.invoke({\"question\": \"What does BT4222 teach?\"})\n",
    "\n",
    "print(f\"Context: {result['context']}\\n\\n\")\n",
    "print(f\"Answer: {result['answer']}\")"
   ]
  },
  {
   "cell_type": "code",
   "execution_count": 16,
   "id": "cef8bea8-b726-4dcc-9a14-ba60c4c6455d",
   "metadata": {},
   "outputs": [
    {
     "name": "stdout",
     "output_type": "stream",
     "text": [
      "{'retrieve': {'context': [Document(metadata={'title': 'Advanced Analytics with Big Data Technologies', 'modeuleCode': 'BT4221', 'faculty': 'Computing', 'moduleCredit': '4', 'department': 'Information Systems and Analytics'}, page_content='This course introduces students to key concepts in Big Data technologies, covering both foundational and emerging tools and practices. It explores the characteristics and challenges of handling large datasets in different environments. Students will develop practical skills in building and automating data pipelines, managing various forms of data processing, and applying advanced analytical techniques to derive business insights across diverse contexts. The course covers essential topics such as data storage, distributed processing and data streaming. By the end of the course, students will be equipped to apply advanced analytics using Big Data technologies to design and implement effective solutions.'), Document(metadata={'faculty': 'Computing', 'modeuleCode': 'BT5127', 'title': 'Practice in Big Data Systems for Data Science', 'moduleCredit': '2', 'department': 'Information Systems and Analytics'}, page_content='Data science incorporates varying elements and builds on techniques and theories from many fields, including statistics, data engineering, data mining, visualization, data warehousing, and high-performance computing systems with the goal of extracting meaning from big data and creating data products. Data science utilizes advanced computing systems such as Apache Hadoop and Spark to address big data challenges. In this course, students will learn various computing systems and optimization techniques that are used in data science with emphasis on the system building and algorithmic optimizations of these techniques.'), Document(metadata={'modeuleCode': 'CS4225', 'moduleCredit': '4', 'title': 'Big Data Systems for Data Science', 'department': 'Computer Science', 'faculty': 'Computing'}, page_content='Data science incorporates varying elements and builds on techniques and theories from many fields, including statistics, data engineering, data mining, visualization, data warehousing, and high-performance computing systems with the goal of extracting meaning from big data and creating data products. Data science utilizes advanced computing systems such as Apache Hadoop and Spark to address big data challenges. In this course, students will learn various computing systems and optimization techniques that are used in data science with emphasis on the system building and algorithmic optimizations of these techniques.'), Document(metadata={'moduleCredit': '4', 'faculty': 'Computing', 'title': 'Topics in Computer Science: Big Data Meets New Hardware', 'department': 'Computer Science', 'modeuleCode': 'CS6284'}, page_content='Recently, there has been a renewed interest in the area of big-data systems on emerging hardware. The opportunities and challenges from emerging big-data processing systems have been raised different scales, from a single machine to thousands of machines. The need for effectively utilizing computing resources creates new technologies and research directions: from conventional ones (e.g., cluster computing, in-memory computing), to more recent ones (e.g., GPGPU, many-core processors, NVRAM). This course will introduce students to the architecture, performance optimization and design of big data systems on various emerging high performance computing hardware including many-core processors and accelerators.')]}}\n",
      "\n",
      "----------------\n",
      "\n",
      "{'generate': {'answer': 'The modules that teach about big data are BT4221: Advanced Analytics with Big Data Technologies, BT5127: Practice in Big Data Systems for Data Science, CS4225: Big Data Systems for Data Science, and CS6284: Topics in Computer Science: Big Data Meets New Hardware. These courses cover foundational concepts, practical skills, system building, and advanced analytics related to big data.'}}\n",
      "\n",
      "----------------\n",
      "\n"
     ]
    }
   ],
   "source": [
    "for step in graph.stream(\n",
    "    {\"question\": \"What modules teach me about big data?\"}, stream_mode=\"updates\"\n",
    "):\n",
    "    print(f\"{step}\\n\\n----------------\\n\")"
   ]
  },
  {
   "cell_type": "code",
   "execution_count": 17,
   "id": "3657d229-321c-481d-bad9-eba8b6cc82f5",
   "metadata": {},
   "outputs": [
    {
     "name": "stdout",
     "output_type": "stream",
     "text": [
      "The modules that teach about big data are BT4221 Advanced Analytics with Big Data Technologies, BT5127 Practice in Big Data Systems for Data Science, and CS4225 Big Data Systems for Data Science. Additionally, CS|6284 Topics in Computer Science: Big Data Meets New Hardware also covers relevant topics. These courses introduce concepts, systems, and technologies for handling and analyzing large datasets.|"
     ]
    }
   ],
   "source": [
    "for message, metadata in graph.stream(\n",
    "    {\"question\": \"What modules teach me about big data?\"}, stream_mode=\"messages\"\n",
    "):\n",
    "    print(message.content, end=\"|\")"
   ]
  },
  {
   "cell_type": "markdown",
   "id": "01a1aa4c-40fd-4e75-a009-00cf6c8a9d36",
   "metadata": {},
   "source": [
    "# Query Analysis\n",
    "So far, we are executing the retrieval using raw input query. However, metadata like I want a 4MC module that teaches xxx, or what does BT4222 teach cannot be handled yet. \n",
    "Query analysis employs models to transform or construct optimized search queries from raw user input. We can easily incorporate a query analysis step into our application."
   ]
  },
  {
   "cell_type": "code",
   "execution_count": 19,
   "id": "78a6f8dc-b82e-4510-8db5-dd3f0d81209b",
   "metadata": {},
   "outputs": [],
   "source": [
    "from typing_extensions import Annotated\n",
    "from typing import List\n",
    "\n",
    "class ModuleQuery(TypedDict):\n",
    "    \"\"\"Structured schema for module search or comparison.\"\"\"\n",
    "    moduleCodes: Annotated[List[str], ..., \"Module codes mentioned in the query, if any.\"]\n",
    "    # keywords: Annotated[List[str], ..., \"Topic keywords to search for, if module code not given.\"]"
   ]
  },
  {
   "cell_type": "code",
   "execution_count": 23,
   "id": "716848be-8d31-4fa2-b18f-2efa762657a0",
   "metadata": {},
   "outputs": [],
   "source": [
    "class State(TypedDict):\n",
    "    question: str\n",
    "    query: ModuleQuery\n",
    "    context: List[Document]\n",
    "    answer: str\n",
    "    \n",
    "def analyze_query(state: State):\n",
    "    # Structured output from LLM\n",
    "    structured_llm = llm.with_structured_output(ModuleQuery)\n",
    "    query = structured_llm.invoke(state[\"question\"])\n",
    "    return {\"query\": query}\n",
    "\n",
    "def retrieve(state: State):\n",
    "    query = state[\"query\"]\n",
    "\n",
    "    if query[\"moduleCodes\"]:\n",
    "        # filter by exact module codes\n",
    "        filter_dict = {\"modeuleCode\": {\"$in\": query[\"moduleCodes\"]}}\n",
    "        retrieved_docs = vector_store.similarity_search(\n",
    "            query=\"\",  # exact match, so semantic query can be empty\n",
    "            k=5,\n",
    "            filter=filter_dict\n",
    "        )\n",
    "    else:\n",
    "        # fallback: semantic search by keywords\n",
    "        # keyword_query = \" \".join(query[\"keywords\"])\n",
    "        retrieved_docs = vector_store.similarity_search(state[\"question\"])\n",
    "    \n",
    "    return {\"context\": retrieved_docs}\n",
    "    \n",
    "def generate(state: State):\n",
    "    docs_content = \"\\n\\n\".join(\n",
    "        f\"Code: {doc.metadata.get('modeuleCode')}\\n\"\n",
    "        f\"Title: {doc.metadata.get('title')}\\n\"\n",
    "        f\"Department: {doc.metadata.get('department')}\\n\"\n",
    "        f\"Faculty: {doc.metadata.get('faculty')}\\n\"\n",
    "        f\"Credits: {doc.metadata.get('moduleCredit')}\\n\"\n",
    "        f\"Description: {doc.page_content}\"\n",
    "        for doc in state[\"context\"])\n",
    "    messages = prompt_template.invoke({\"question\": state[\"question\"], \"context\": docs_content})\n",
    "    response = llm.invoke(messages)\n",
    "    return {\"answer\": response.content}\n",
    "\n",
    "graph_builder = StateGraph(State).add_sequence([analyze_query, retrieve, generate])\n",
    "graph_builder.add_edge(START, \"analyze_query\")\n",
    "graph = graph_builder.compile()"
   ]
  },
  {
   "cell_type": "code",
   "execution_count": 24,
   "id": "1521d465-7bd8-4079-8b35-600a84c1f9a0",
   "metadata": {},
   "outputs": [
    {
     "data": {
      "image/png": "[encoded data removed]",
      "text/plain": [
       "<IPython.core.display.Image object>"
      ]
     },
     "metadata": {},
     "output_type": "display_data"
    }
   ],
   "source": [
    "display(Image(graph.get_graph().draw_mermaid_png()))"
   ]
  },
  {
   "cell_type": "code",
   "execution_count": 25,
   "id": "14f87998-3414-4f93-bf04-e7b27eeb25cf",
   "metadata": {},
   "outputs": [
    {
     "name": "stdout",
     "output_type": "stream",
     "text": [
      "{'analyze_query': {'query': {'moduleCodes': ['BT4222', 'BT4221']}}}\n",
      "\n",
      "----------------\n",
      "\n",
      "{'retrieve': {'context': [Document(metadata={'department': 'Information Systems and Analytics', 'modeuleCode': 'BT4222', 'faculty': 'Computing', 'title': 'Mining Web Data for Business Insights', 'moduleCredit': '4'}, page_content='The World Wide Web inundates us with vast amounts of interconnected, dynamic hypertext information, influencing communication and business operations profoundly. This course teaches concepts, methods, and analytics skills to derive insights from unstructured web data across a broad range of business domains, e.g., e-commerce, social media, finance, healthcare, and entertainment. Methods include data extraction via Application Programming Interfaces (APIs), natural language processing, text feature engineering, supervised machine learning, unsupervised machine learning and large language models (LLMs). Students will be equipped with skills to extract patterns from unstructured data, and analyse online transaction data, user behaviour data, and user-generated content.'), Document(metadata={'title': 'Advanced Analytics with Big Data Technologies', 'department': 'Information Systems and Analytics', 'faculty': 'Computing', 'modeuleCode': 'BT4221', 'moduleCredit': '4'}, page_content='This course introduces students to key concepts in Big Data technologies, covering both foundational and emerging tools and practices. It explores the characteristics and challenges of handling large datasets in different environments. Students will develop practical skills in building and automating data pipelines, managing various forms of data processing, and applying advanced analytical techniques to derive business insights across diverse contexts. The course covers essential topics such as data storage, distributed processing and data streaming. By the end of the course, students will be equipped to apply advanced analytics using Big Data technologies to design and implement effective solutions.')]}}\n",
      "\n",
      "----------------\n",
      "\n",
      "{'generate': {'answer': 'BT4222, \"Mining Web Data for Business Insights,\" focuses on deriving insights from unstructured web data using methods like natural language processing and large language models. In contrast, BT4221, \"Advanced Analytics with Big Data Technologies,\" introduces key concepts in Big Data technologies, covering data storage, distributed processing, and data streaming. Therefore, BT4222 specializes in web content analysis, while BT4221 covers broader Big Data infrastructure and processing.'}}\n",
      "\n",
      "----------------\n",
      "\n"
     ]
    }
   ],
   "source": [
    "for step in graph.stream(\n",
    "    {\"question\": \"What are the difference between BT4222 and BT4221?\"},\n",
    "    stream_mode=\"updates\",\n",
    "):\n",
    "    print(f\"{step}\\n\\n----------------\\n\")"
   ]
  },
  {
   "cell_type": "code",
   "execution_count": 27,
   "id": "a110fa4e-bd84-4d44-a836-963614ab6205",
   "metadata": {},
   "outputs": [
    {
     "name": "stdout",
     "output_type": "stream",
     "text": [
      "{'analyze_query': {'query': {'moduleCodes': ['BT4221', 'CS4225', 'CS5425', 'CS5344']}}}\n",
      "\n",
      "----------------\n",
      "\n",
      "{'retrieve': {'context': [Document(metadata={'department': 'Computer Science', 'title': 'Big Data Systems for Data Science', 'modeuleCode': 'CS5425', 'faculty': 'Computing', 'moduleCredit': '4'}, page_content='Data science incorporates varying elements and builds on techniques and theories from many fields, including statistics, data engineering, data mining, visualization, data warehousing, and high-performance computing systems with the goal of extracting meaning from big data and creating data products. Data science needs advanced computing systems such as Apache Hadoop and Spark to address big data challenges. In this course, students will learn various computing systems and optimization techniques that are used in data science with emphasis on the system building and algorithmic optimizations of these techniques.'), Document(metadata={'faculty': 'Computing', 'title': 'Advanced Analytics with Big Data Technologies', 'department': 'Information Systems and Analytics', 'modeuleCode': 'BT4221', 'moduleCredit': '4'}, page_content='This course introduces students to key concepts in Big Data technologies, covering both foundational and emerging tools and practices. It explores the characteristics and challenges of handling large datasets in different environments. Students will develop practical skills in building and automating data pipelines, managing various forms of data processing, and applying advanced analytical techniques to derive business insights across diverse contexts. The course covers essential topics such as data storage, distributed processing and data streaming. By the end of the course, students will be equipped to apply advanced analytics using Big Data technologies to design and implement effective solutions.'), Document(metadata={'department': 'Computer Science', 'modeuleCode': 'CS4225', 'faculty': 'Computing', 'moduleCredit': '4', 'title': 'Big Data Systems for Data Science'}, page_content='Data science incorporates varying elements and builds on techniques and theories from many fields, including statistics, data engineering, data mining, visualization, data warehousing, and high-performance computing systems with the goal of extracting meaning from big data and creating data products. Data science utilizes advanced computing systems such as Apache Hadoop and Spark to address big data challenges. In this course, students will learn various computing systems and optimization techniques that are used in data science with emphasis on the system building and algorithmic optimizations of these techniques.'), Document(metadata={'faculty': 'Computing', 'modeuleCode': 'CS5344', 'department': 'Computer Science', 'moduleCredit': '4', 'title': 'Big-Data Analytics Technology'}, page_content='This course analysis of data which can not fit in main memory and application of such analysis to web applications. The topics covered include: map-reduce as a tool for creating parallel algorithms that operate on very large amount of data, similarity search, data-streaming processing, search engine technology, clustering of very large, high-dimensional datasets.')]}}\n",
      "\n",
      "----------------\n",
      "\n",
      "{'generate': {'answer': 'All four courses, BT4221, CS4225, CS5425, and CS5344, are highly relevant if you are interested in big data. CS5425 and CS4225 both focus on big data systems for data science, emphasizing system building and algorithmic optimizations. BT4221 explores advanced analytics with big data technologies, covering data pipelines, distributed processing, and streaming. CS5344 focuses on big-data analytics technology, including map-reduce, data-streaming processing, and clustering.'}}\n",
      "\n",
      "----------------\n",
      "\n"
     ]
    }
   ],
   "source": [
    "for step in graph.stream(\n",
    "    {\"question\": \"If im more interested in big data, should I choose BT4221 or CS4225 or CS5425 or CS5344?\"},\n",
    "    stream_mode=\"updates\",\n",
    "):\n",
    "    print(f\"{step}\\n\\n----------------\\n\")"
   ]
  }
 ],
 "metadata": {
  "kernelspec": {
   "display_name": "langchain",
   "language": "python",
   "name": "langchain"
  },
  "language_info": {
   "codemirror_mode": {
    "name": "ipython",
    "version": 3
   },
   "file_extension": ".py",
   "mimetype": "text/x-python",
   "name": "python",
   "nbconvert_exporter": "python",
   "pygments_lexer": "ipython3",
   "version": "3.12.11"
  }
 },
 "nbformat": 4,
 "nbformat_minor": 5
}
