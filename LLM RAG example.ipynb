{
 "cells": [
  {
   "cell_type": "markdown",
   "id": "897a1270-9f49-4a3f-ba05-c06407af583d",
   "metadata": {},
   "source": [
    "# Set up\n",
    "## Model (Gemini)"
   ]
  },
  {
   "cell_type": "code",
   "execution_count": 1,
   "id": "9710d846-06dd-4c04-a368-d4fccac96bdd",
   "metadata": {},
   "outputs": [
    {
     "name": "stdin",
     "output_type": "stream",
     "text": [
      " ········\n"
     ]
    }
   ],
   "source": [
    "import getpass\n",
    "import os\n",
    "\n",
    "os.environ[\"LANGSMITH_TRACING\"] = \"true\"\n",
    "os.environ[\"LANGSMITH_API_KEY\"] = getpass.getpass()"
   ]
  },
  {
   "cell_type": "code",
   "execution_count": 2,
   "id": "1537c4bd-78e5-4029-a277-26230c7f2b43",
   "metadata": {},
   "outputs": [
    {
     "name": "stderr",
     "output_type": "stream",
     "text": [
      "C:\\Users\\zheng\\anaconda3\\envs\\nus_rag\\Lib\\site-packages\\tqdm\\auto.py:21: TqdmWarning: IProgress not found. Please update jupyter and ipywidgets. See https://ipywidgets.readthedocs.io/en/stable/user_install.html\n",
      "  from .autonotebook import tqdm as notebook_tqdm\n"
     ]
    }
   ],
   "source": [
    "from langchain.chat_models import init_chat_model"
   ]
  },
  {
   "cell_type": "code",
   "execution_count": 3,
   "id": "65a9fce9-b2c9-4ffd-8d94-c85abe0943d8",
   "metadata": {},
   "outputs": [
    {
     "name": "stdin",
     "output_type": "stream",
     "text": [
      "Enter API key for Google Gemini:  ········\n"
     ]
    }
   ],
   "source": [
    "import getpass\n",
    "import os\n",
    "\n",
    "if not os.environ.get(\"GOOGLE_API_KEY\"):\n",
    "  os.environ[\"GOOGLE_API_KEY\"] = getpass.getpass(\"Enter API key for Google Gemini: \")\n",
    "\n",
    "from langchain.chat_models import init_chat_model\n",
    "\n",
    "llm = init_chat_model(\"gemini-2.5-flash\", model_provider=\"google_genai\")"
   ]
  },
  {
   "cell_type": "markdown",
   "id": "fe0fcf9c-8c42-486a-9af3-5194b3ae9418",
   "metadata": {},
   "source": [
    "## Vector Store and embedding (Huggingface and Chroma)"
   ]
  },
  {
   "cell_type": "code",
   "execution_count": 4,
   "id": "38ca832c-7774-4f52-a42d-52d9b5568f7b",
   "metadata": {},
   "outputs": [
    {
     "name": "stderr",
     "output_type": "stream",
     "text": [
      "C:\\Users\\zheng\\AppData\\Local\\Temp\\ipykernel_20752\\1785536481.py:5: LangChainDeprecationWarning: The class `Chroma` was deprecated in LangChain 0.2.9 and will be removed in 1.0. An updated version of the class exists in the :class:`~langchain-chroma package and should be used instead. To use it run `pip install -U :class:`~langchain-chroma` and import as `from :class:`~langchain_chroma import Chroma``.\n",
      "  vector_store = Chroma(\n"
     ]
    }
   ],
   "source": [
    "from langchain.vectorstores import Chroma\n",
    "from langchain_huggingface import HuggingFaceEmbeddings\n",
    "\n",
    "embedding = HuggingFaceEmbeddings(model_name=\"sentence-transformers/all-mpnet-base-v2\")\n",
    "vector_store = Chroma(\n",
    "    embedding_function=embedding,\n",
    "    persist_directory=\"./nus_modules_index\",  # where to load locally \n",
    ")"
   ]
  },
  {
   "cell_type": "code",
   "execution_count": 5,
   "id": "4b80bf7e-d204-45b4-9f39-81e3d6efc1c6",
   "metadata": {},
   "outputs": [
    {
     "name": "stdout",
     "output_type": "stream",
     "text": [
      "16516\n"
     ]
    }
   ],
   "source": [
    "print(vector_store._collection.count())"
   ]
  },
  {
   "cell_type": "code",
   "execution_count": 6,
   "id": "cd9aed12-60d0-46c5-8003-4f730bf6419a",
   "metadata": {},
   "outputs": [
    {
     "name": "stdout",
     "output_type": "stream",
     "text": [
      "Document count: 16516\n"
     ]
    }
   ],
   "source": [
    "# Check if it loads properly\n",
    "print(f\"Document count: {vector_store._collection.count()}\")"
   ]
  },
  {
   "cell_type": "code",
   "execution_count": 7,
   "id": "a46a0bfd-5ed1-4e81-91ed-176cc721b42d",
   "metadata": {},
   "outputs": [
    {
     "name": "stdout",
     "output_type": "stream",
     "text": [
      "Invalid doc at index 0: ids\n",
      "Invalid doc at index 1: embeddings\n",
      "Invalid doc at index 2: documents\n",
      "Invalid doc at index 3: uris\n",
      "Invalid doc at index 4: included\n",
      "Invalid doc at index 5: data\n",
      "Invalid doc at index 6: metadatas\n"
     ]
    }
   ],
   "source": [
    "docs = vector_store.get()\n",
    "for i, doc in enumerate(docs):\n",
    "    if not doc.title or not isinstance(doc.title, str):\n",
    "        print(f\"Invalid doc at index {i}: {doc}\")"
   ]
  },
  {
   "cell_type": "markdown",
   "id": "fb06298a-617c-4469-af85-9a6c5ac254a1",
   "metadata": {},
   "source": [
    "# RAG\n",
    "The following will be a simple demostartion on RAG"
   ]
  },
  {
   "cell_type": "code",
   "execution_count": 9,
   "id": "a0770c14-f334-40d1-934d-6d0422a123b5",
   "metadata": {},
   "outputs": [],
   "source": [
    "from langchain import hub\n",
    "prompt_template = hub.pull(\"rlm/rag-prompt\")"
   ]
  },
  {
   "cell_type": "code",
   "execution_count": 10,
   "id": "0e53cd23-ea5c-4c96-876a-0e7a0d1db6d7",
   "metadata": {},
   "outputs": [
    {
     "data": {
      "text/plain": [
       "ChatPromptTemplate(input_variables=['context', 'question'], input_types={}, partial_variables={}, metadata={'lc_hub_owner': 'rlm', 'lc_hub_repo': 'rag-prompt', 'lc_hub_commit_hash': '50442af133e61576e74536c6556cefe1fac147cad032f4377b60c436e6cdcb6e'}, messages=[HumanMessagePromptTemplate(prompt=PromptTemplate(input_variables=['context', 'question'], input_types={}, partial_variables={}, template=\"You are an assistant for question-answering tasks. Use the following pieces of retrieved context to answer the question. If you don't know the answer, just say that you don't know. Use three sentences maximum and keep the answer concise.\\nQuestion: {question} \\nContext: {context} \\nAnswer:\"), additional_kwargs={})])"
      ]
     },
     "execution_count": 10,
     "metadata": {},
     "output_type": "execute_result"
    }
   ],
   "source": [
    "prompt_template"
   ]
  },
  {
   "cell_type": "markdown",
   "id": "e42c4799-ef36-41a9-88c2-33d246ae3a83",
   "metadata": {},
   "source": [
    "### Short example"
   ]
  },
  {
   "cell_type": "code",
   "execution_count": 11,
   "id": "c55101b0-6cc7-407f-9da8-deaef1048142",
   "metadata": {},
   "outputs": [
    {
     "data": {
      "text/plain": [
       "HumanMessage(content=\"You are an assistant for question-answering tasks. Use the following pieces of retrieved context to answer the question. If you don't know the answer, just say that you don't know. Use three sentences maximum and keep the answer concise.\\nQuestion: Which modules are about generative AI for business leaders? \\nContext: Document(metadata={'moduleCredit': '4', 'department': 'Information Systems and Analytics', 'modeuleCode': 'IS4401', 'title': 'Generative AI and Business Applications', 'faculty': 'Computing'}, page_content='Generative Artificial Intelligence (generative AI) has the ability to create new content such as text, image audio and video. Generative AI thus possesses an immense potential for creating business innovations and improving productivity. This course teaches students the underpinnings of generative AI models and to understand how to evaluate and choose the most appropriate model to solve a real-world problem. More importantly, students will also learn how to create generative AI applications using various approaches such as training custom models, using pretrained models and working with APIs. The course will also expose students to various emerging business applications of generative AI as part of the solutioning process.') \\nAnswer:\", additional_kwargs={}, response_metadata={})"
      ]
     },
     "execution_count": 11,
     "metadata": {},
     "output_type": "execute_result"
    }
   ],
   "source": [
    "prompt = prompt_template.invoke({\"question\": \"Which modules are about generative AI for business leaders?\", \"context\":\"Document(metadata={'moduleCredit': '4', 'department': 'Information Systems and Analytics', 'moduleCode': 'IS4401', 'title': 'Generative AI and Business Applications', 'faculty': 'Computing'}, page_content='Generative Artificial Intelligence (generative AI) has the ability to create new content such as text, image audio and video. Generative AI thus possesses an immense potential for creating business innovations and improving productivity. This course teaches students the underpinnings of generative AI models and to understand how to evaluate and choose the most appropriate model to solve a real-world problem. More importantly, students will also learn how to create generative AI applications using various approaches such as training custom models, using pretrained models and working with APIs. The course will also expose students to various emerging business applications of generative AI as part of the solutioning process.')\"})\n",
    "prompt.to_messages()[0]"
   ]
  },
  {
   "cell_type": "code",
   "execution_count": 12,
   "id": "3bb067de-f2b2-4056-b718-ec59cd0e6033",
   "metadata": {},
   "outputs": [
    {
     "data": {
      "text/plain": [
       "AIMessage(content='The module \"IS4401: Generative AI and Business Applications\" is about generative AI. It focuses on the immense potential of generative AI for creating business innovations and improving productivity. The course also exposes students to various emerging business applications of generative AI.', additional_kwargs={}, response_metadata={'prompt_feedback': {'block_reason': 0, 'safety_ratings': []}, 'finish_reason': 'STOP', 'model_name': 'gemini-2.5-flash', 'safety_ratings': []}, id='run--bb1e2aaf-11d5-42d3-b65b-f317c13551ee-0', usage_metadata={'input_tokens': 250, 'output_tokens': 311, 'total_tokens': 561, 'input_token_details': {'cache_read': 0}, 'output_token_details': {'reasoning': 259}})"
      ]
     },
     "execution_count": 12,
     "metadata": {},
     "output_type": "execute_result"
    }
   ],
   "source": [
    "response = llm.invoke(prompt)\n",
    "response"
   ]
  },
  {
   "cell_type": "markdown",
   "id": "09de5424-cabd-4eb4-b4fb-bd1e8778dc39",
   "metadata": {},
   "source": [
    "# Adding LangGraph\n",
    "LangGraph to tie retrieval and generation step into a single application, which will bring a number of benefits\n",
    "- define our application logic once and automatically support multiple invocation models, including streaming, async and batched calls\n",
    "- steamlined deployments via langgraph platform\n",
    "- langsmith will automatically trace the steps of our application together\n",
    "- easy to add key features to our application, including persistence and human-in-the-loop approval, with minimal code changes\n",
    "\n",
    "To use LangGraph, we need to define threee things:\n",
    "1. The state of our application\n",
    "2. The nodes of our applicaiton (applciation steps)\n",
    "3. The \"control flow\" of our application (ordering of the steps)\n",
    "\n",
    "State:\n",
    "The state of our application controls what data is input to the application, transferred between steps, and output by the application. It is typically a TypedDict, but can also be a Pydantic BaseModel.\n"
   ]
  },
  {
   "cell_type": "code",
   "execution_count": 28,
   "id": "13a45d5e-feb6-402b-bbf9-76d85b290413",
   "metadata": {},
   "outputs": [],
   "source": [
    "from langchain_core.documents import Document\n",
    "from typing_extensions import List, TypedDict\n",
    "\n",
    "\n",
    "class State(TypedDict):\n",
    "    question: str\n",
    "    context: List[Document]\n",
    "    answer: str\n",
    "    \n",
    "def retrieve(state: State):\n",
    "    retrieved_docs = vector_store.similarity_search(state[\"question\"])\n",
    "    return {\"context\": retrieved_docs}\n",
    "\n",
    "\n",
    "def generate(state: State):\n",
    "    docs_content = \"\\n\\n\".join(\n",
    "        f\"Code: {doc.metadata.get('moduleCode')}\\n\"\n",
    "        f\"Title: {doc.metadata.get('title')}\\n\"\n",
    "        f\"Department: {doc.metadata.get('department')}\\n\"\n",
    "        f\"Faculty: {doc.metadata.get('faculty')}\\n\"\n",
    "        f\"Credits: {doc.metadata.get('moduleCredit')}\\n\"\n",
    "        f\"Description: {doc.page_content}\"\n",
    "        for doc in state[\"context\"])\n",
    "    messages = prompt_template.invoke({\"question\": state[\"question\"], \"context\": docs_content})\n",
    "    response = llm.invoke(messages)\n",
    "    return {\"answer\": response.content}"
   ]
  },
  {
   "cell_type": "code",
   "execution_count": 29,
   "id": "797e3ce1-418b-4862-b071-96b23d5fabde",
   "metadata": {},
   "outputs": [],
   "source": [
    "from langgraph.graph import START, StateGraph\n",
    "\n",
    "graph_builder = StateGraph(State).add_sequence([retrieve, generate])\n",
    "graph_builder.add_edge(START, \"retrieve\")\n",
    "graph = graph_builder.compile()"
   ]
  },
  {
   "cell_type": "code",
   "execution_count": 30,
   "id": "e4170e93-f7d4-4769-918c-191447ab7e77",
   "metadata": {},
   "outputs": [
    {
     "data": {
      "image/png": "[encoded data removed]",
      "text/plain": [
       "<IPython.core.display.Image object>"
      ]
     },
     "metadata": {},
     "output_type": "display_data"
    }
   ],
   "source": [
    "from IPython.display import Image, display\n",
    "\n",
    "display(Image(graph.get_graph().draw_mermaid_png()))"
   ]
  },
  {
   "cell_type": "code",
   "execution_count": 31,
   "id": "d0981ce6-ed4d-4556-a2e1-6a45c1c5bc80",
   "metadata": {},
   "outputs": [
    {
     "name": "stdout",
     "output_type": "stream",
     "text": [
      "Context: [Document(metadata={'title': 'Advanced Analytics with Big Data Technologies', 'moduleCode': 'BT4221', 'department': 'Information Systems and Analytics', 'faculty': 'Computing', 'moduleCredit': '4'}, page_content='This course introduces students to key concepts in Big Data technologies, covering both foundational and emerging tools and practices. It explores the characteristics and challenges of handling large datasets in different environments. Students will develop practical skills in building and automating data pipelines, managing various forms of data processing, and applying advanced analytical techniques to derive business insights across diverse contexts. The course covers essential topics such as data storage, distributed processing and data streaming. By the end of the course, students will be equipped to apply advanced analytics using Big Data technologies to design and implement effective solutions.'), Document(metadata={'moduleCode': 'EE3801', 'department': 'Electrical and Computer Engineering', 'moduleCredit': '4', 'title': 'Data Engineering Principles', 'faculty': 'College of Design and Engineering'}, page_content='This course covers the fundamental principles of data engineering, which includes the tools and technologies to build the data pipelines and data services needed to do find insights in big data. Specific topics include data collection, data cleansing, data wrangling, and data integrity. Techniques for data analytics, data storage and retrieval, and data visualisation will also be covered. In addition to basic principles of data engineering, the course will expose students to open-source industry tools and best practices, as well as ethical considerations.'), Document(metadata={'faculty': 'Science', 'moduleCode': 'DSA5101', 'moduleCredit': '4', 'department': 'Mathematics', 'title': 'Introduction to Big Data for Industry'}, page_content='The course introduces basic issues of data collection, data cleaning, data management and programming skills for processing big data. Topics include basic tools for data manipulation and visualization, basic statistic tools for understanding data, programming in Perl and/or Python, principles of data cleaning and data sharing, case studies in which machine learning and AI play an important role. The course is the first half of a one-year introduction to big data in practice.'), Document(metadata={'moduleCredit': '10', 'title': 'Big Data Analytics', 'moduleCode': 'EBA5006G', 'department': 'NUS-ISS', 'faculty': 'NUS-ISS'}, page_content='This course teaches the foundation skills and best practices to process/engineer Big Data arising from diverse data sources. It also teaches the skills & knowledge required for analyzing Big Data as well as its industry applications in various domains like Transport, Supply Chain, Logistics, Ecommerce, Retail, Marketing, F&B and Social Media & Entertainment, etc. by deploying a common framework.')]\n",
      "\n",
      "\n",
      "Answer: The modules that teach about big data are \"Advanced Analytics with Big Data Technologies\", \"Data Engineering Principles\", \"Introduction to Big Data for Industry\", and \"Big Data Analytics\". These courses cover various aspects of big data, including foundational concepts, engineering principles, data processing, and advanced analytics.\n"
     ]
    }
   ],
   "source": [
    "result = graph.invoke({\"question\": \"What modules teach me about big data?\"})\n",
    "\n",
    "print(f\"Context: {result['context']}\\n\\n\")\n",
    "print(f\"Answer: {result['answer']}\")"
   ]
  },
  {
   "cell_type": "code",
   "execution_count": 32,
   "id": "2657a806-1e64-482d-970d-3ae8f798289a",
   "metadata": {},
   "outputs": [
    {
     "name": "stdout",
     "output_type": "stream",
     "text": [
      "Context: [Document(metadata={'faculty': 'Computing', 'moduleCredit': '1', 'moduleCode': 'CS2100R', 'department': 'Computer Science', 'title': 'Computer Organisation'}, page_content='This 1-Unit course adds a research component to the host course, enabling students to acquire more in-depth understanding of the research issues pertaining to the subject matter.'), Document(metadata={'moduleCredit': '1', 'department': 'Computer Science', 'title': 'Software Engineering', 'moduleCode': 'CS2103R', 'faculty': 'Computing'}, page_content='This 1-Unit course adds a research component to the host course, enabling students to acquire more in-depth understanding of the research issues pertaining to the subject matter.'), Document(metadata={'moduleCredit': '1', 'department': 'Computer Science', 'title': 'Programming Language Concepts', 'moduleCode': 'CS2104R', 'faculty': 'Computing'}, page_content='This 1-Unit course adds a research component to the host course, enabling students to acquire more in-depth understanding of the research issues pertaining to the subject matter.'), Document(metadata={'moduleCode': 'CS2105R', 'title': 'Introduction to Computer Networks', 'faculty': 'Computing', 'moduleCredit': '1', 'department': 'Computer Science'}, page_content='This 1-Unit course adds a research component to the host course, enabling students to acquire more in-depth understanding of the research issues pertaining to the subject matter.')]\n",
      "\n",
      "\n",
      "Answer: I don't know what BT4222 teaches. The provided context does not contain any information about a course with the code BT4222.\n"
     ]
    }
   ],
   "source": [
    "result = graph.invoke({\"question\": \"What does BT4222 teach?\"})\n",
    "\n",
    "print(f\"Context: {result['context']}\\n\\n\")\n",
    "print(f\"Answer: {result['answer']}\")"
   ]
  },
  {
   "cell_type": "code",
   "execution_count": 33,
   "id": "cef8bea8-b726-4dcc-9a14-ba60c4c6455d",
   "metadata": {},
   "outputs": [
    {
     "name": "stdout",
     "output_type": "stream",
     "text": [
      "{'retrieve': {'context': [Document(metadata={'faculty': 'Computing', 'moduleCode': 'BT4221', 'title': 'Advanced Analytics with Big Data Technologies', 'moduleCredit': '4', 'department': 'Information Systems and Analytics'}, page_content='This course introduces students to key concepts in Big Data technologies, covering both foundational and emerging tools and practices. It explores the characteristics and challenges of handling large datasets in different environments. Students will develop practical skills in building and automating data pipelines, managing various forms of data processing, and applying advanced analytical techniques to derive business insights across diverse contexts. The course covers essential topics such as data storage, distributed processing and data streaming. By the end of the course, students will be equipped to apply advanced analytics using Big Data technologies to design and implement effective solutions.'), Document(metadata={'faculty': 'College of Design and Engineering', 'title': 'Data Engineering Principles', 'moduleCode': 'EE3801', 'moduleCredit': '4', 'department': 'Electrical and Computer Engineering'}, page_content='This course covers the fundamental principles of data engineering, which includes the tools and technologies to build the data pipelines and data services needed to do find insights in big data. Specific topics include data collection, data cleansing, data wrangling, and data integrity. Techniques for data analytics, data storage and retrieval, and data visualisation will also be covered. In addition to basic principles of data engineering, the course will expose students to open-source industry tools and best practices, as well as ethical considerations.'), Document(metadata={'moduleCredit': '4', 'moduleCode': 'DSA5101', 'title': 'Introduction to Big Data for Industry', 'faculty': 'Science', 'department': 'Mathematics'}, page_content='The course introduces basic issues of data collection, data cleaning, data management and programming skills for processing big data. Topics include basic tools for data manipulation and visualization, basic statistic tools for understanding data, programming in Perl and/or Python, principles of data cleaning and data sharing, case studies in which machine learning and AI play an important role. The course is the first half of a one-year introduction to big data in practice.'), Document(metadata={'title': 'Big Data Analytics', 'department': 'NUS-ISS', 'moduleCode': 'EBA5006G', 'moduleCredit': '10', 'faculty': 'NUS-ISS'}, page_content='This course teaches the foundation skills and best practices to process/engineer Big Data arising from diverse data sources. It also teaches the skills & knowledge required for analyzing Big Data as well as its industry applications in various domains like Transport, Supply Chain, Logistics, Ecommerce, Retail, Marketing, F&B and Social Media & Entertainment, etc. by deploying a common framework.')]}}\n",
      "\n",
      "----------------\n",
      "\n",
      "{'generate': {'answer': 'The modules that teach about big data are \"Advanced Analytics with Big Data Technologies,\" \"Data Engineering Principles,\" \"Introduction to Big Data for Industry,\" and \"Big Data Analytics.\" These courses cover concepts like big data technologies, processing large datasets, building data pipelines, and applying advanced analytical techniques. They also delve into data storage, distributed processing, and industry applications of big data.'}}\n",
      "\n",
      "----------------\n",
      "\n"
     ]
    }
   ],
   "source": [
    "for step in graph.stream(\n",
    "    {\"question\": \"What modules teach me about big data?\"}, stream_mode=\"updates\"\n",
    "):\n",
    "    print(f\"{step}\\n\\n----------------\\n\")"
   ]
  },
  {
   "cell_type": "code",
   "execution_count": 34,
   "id": "3657d229-321c-481d-bad9-eba8b6cc82f5",
   "metadata": {},
   "outputs": [
    {
     "name": "stdout",
     "output_type": "stream",
     "text": [
      "The modules that teach about big data are \"Advanced Analytics with Big Data Technologies,\" \"Data Engineering Principles,\" \"Introduction to Big Data for Industry,\" and \"Big Data Analytics.\" These courses cover concepts like handling large datasets, building data pipelines for big| data, processing big data, and analyzing big data.|"
     ]
    }
   ],
   "source": [
    "for message, metadata in graph.stream(\n",
    "    {\"question\": \"What modules teach me about big data?\"}, stream_mode=\"messages\"\n",
    "):\n",
    "    print(message.content, end=\"|\")"
   ]
  },
  {
   "cell_type": "markdown",
   "id": "01a1aa4c-40fd-4e75-a009-00cf6c8a9d36",
   "metadata": {},
   "source": [
    "# Query Analysis\n",
    "So far, we are executing the retrieval using raw input query. However, metadata like I want a 4MC module that teaches xxx, or what does BT4222 teach cannot be handled yet. \n",
    "Query analysis employs models to transform or construct optimized search queries from raw user input. We can easily incorporate a query analysis step into our application."
   ]
  },
  {
   "cell_type": "code",
   "execution_count": 35,
   "id": "78a6f8dc-b82e-4510-8db5-dd3f0d81209b",
   "metadata": {},
   "outputs": [],
   "source": [
    "from typing_extensions import Annotated\n",
    "from typing import List\n",
    "\n",
    "class ModuleQuery(TypedDict):\n",
    "    \"\"\"Structured schema for module search or comparison.\"\"\"\n",
    "    moduleCodes: Annotated[List[str], ..., \"Module codes mentioned in the query, if any.\"]\n",
    "    # keywords: Annotated[List[str], ..., \"Topic keywords to search for, if module code not given.\"]"
   ]
  },
  {
   "cell_type": "code",
   "execution_count": 39,
   "id": "716848be-8d31-4fa2-b18f-2efa762657a0",
   "metadata": {},
   "outputs": [],
   "source": [
    "class State(TypedDict):\n",
    "    question: str\n",
    "    query: ModuleQuery\n",
    "    context: List[Document]\n",
    "    answer: str\n",
    "    \n",
    "def analyze_query(state: State):\n",
    "    # Structured output from LLM\n",
    "    structured_llm = llm.with_structured_output(ModuleQuery)\n",
    "    query = structured_llm.invoke(state[\"question\"])\n",
    "    return {\"query\": query}\n",
    "\n",
    "def retrieve(state: State):\n",
    "    query = state[\"query\"]\n",
    "\n",
    "    if query[\"moduleCodes\"]:\n",
    "        # filter by exact module codes\n",
    "        filter_dict = {\"moduleCode\": {\"$in\": query[\"moduleCodes\"]}}\n",
    "        retrieved_docs = vector_store.similarity_search(\n",
    "            query=\"\",  # exact match, so semantic query can be empty\n",
    "            k=5,\n",
    "            filter=filter_dict\n",
    "        )\n",
    "    else:\n",
    "        # fallback: semantic search by keywords\n",
    "        # keyword_query = \" \".join(query[\"keywords\"])\n",
    "        retrieved_docs = vector_store.similarity_search(state[\"question\"])\n",
    "    \n",
    "    return {\"context\": retrieved_docs}\n",
    "    \n",
    "def generate(state: State):\n",
    "    docs_content = \"\\n\\n\".join(\n",
    "        f\"Code: {doc.metadata.get('moduleCode')}\\n\"\n",
    "        f\"Title: {doc.metadata.get('title')}\\n\"\n",
    "        f\"Department: {doc.metadata.get('department')}\\n\"\n",
    "        f\"Faculty: {doc.metadata.get('faculty')}\\n\"\n",
    "        f\"Credits: {doc.metadata.get('moduleCredit')}\\n\"\n",
    "        f\"Description: {doc.page_content}\"\n",
    "        for doc in state[\"context\"])\n",
    "    messages = prompt_template.invoke({\"question\": state[\"question\"], \"context\": docs_content})\n",
    "    response = llm.invoke(messages)\n",
    "    return {\"answer\": response.content}\n",
    "\n",
    "graph_builder = StateGraph(State).add_sequence([analyze_query, retrieve, generate])\n",
    "graph_builder.add_edge(START, \"analyze_query\")\n",
    "graph = graph_builder.compile()"
   ]
  },
  {
   "cell_type": "code",
   "execution_count": 40,
   "id": "1521d465-7bd8-4079-8b35-600a84c1f9a0",
   "metadata": {},
   "outputs": [
    {
     "data": {
      "image/png": "[encoded data removed]",
      "text/plain": [
       "<IPython.core.display.Image object>"
      ]
     },
     "metadata": {},
     "output_type": "display_data"
    }
   ],
   "source": [
    "display(Image(graph.get_graph().draw_mermaid_png()))"
   ]
  },
  {
   "cell_type": "code",
   "execution_count": 41,
   "id": "14f87998-3414-4f93-bf04-e7b27eeb25cf",
   "metadata": {},
   "outputs": [
    {
     "name": "stdout",
     "output_type": "stream",
     "text": [
      "{'analyze_query': {'query': {'moduleCodes': ['BT4222', 'BT4221']}}}\n",
      "\n",
      "----------------\n",
      "\n",
      "{'retrieve': {'context': [Document(metadata={'moduleCredit': '4', 'department': 'Information Systems and Analytics', 'faculty': 'Computing', 'title': 'Mining Web Data for Business Insights', 'moduleCode': 'BT4222'}, page_content='The World Wide Web inundates us with vast amounts of interconnected, dynamic hypertext information, influencing communication and business operations profoundly. This course teaches concepts, methods, and analytics skills to derive insights from unstructured web data across a broad range of business domains, e.g., e-commerce, social media, finance, healthcare, and entertainment. Methods include data extraction via Application Programming Interfaces (APIs), natural language processing, text feature engineering, supervised machine learning, unsupervised machine learning and large language models (LLMs). Students will be equipped with skills to extract patterns from unstructured data, and analyse online transaction data, user behaviour data, and user-generated content.'), Document(metadata={'faculty': 'Computing', 'title': 'Advanced Analytics with Big Data Technologies', 'moduleCode': 'BT4221', 'moduleCredit': '4', 'department': 'Information Systems and Analytics'}, page_content='This course introduces students to key concepts in Big Data technologies, covering both foundational and emerging tools and practices. It explores the characteristics and challenges of handling large datasets in different environments. Students will develop practical skills in building and automating data pipelines, managing various forms of data processing, and applying advanced analytical techniques to derive business insights across diverse contexts. The course covers essential topics such as data storage, distributed processing and data streaming. By the end of the course, students will be equipped to apply advanced analytics using Big Data technologies to design and implement effective solutions.')]}}\n",
      "\n",
      "----------------\n",
      "\n",
      "{'generate': {'answer': 'BT4222 focuses on mining unstructured web data using techniques like APIs, natural language processing, and machine learning to derive business insights. In contrast, BT4221 introduces students to key concepts in Big Data technologies, covering foundational and emerging tools, distributed processing, and data streaming. While both aim for business insights, BT4222 specializes in web and text analytics, whereas BT4221 covers the broader spectrum of managing and processing large datasets.'}}\n",
      "\n",
      "----------------\n",
      "\n"
     ]
    }
   ],
   "source": [
    "for step in graph.stream(\n",
    "    {\"question\": \"What are the difference between BT4222 and BT4221?\"},\n",
    "    stream_mode=\"updates\",\n",
    "):\n",
    "    print(f\"{step}\\n\\n----------------\\n\")"
   ]
  },
  {
   "cell_type": "code",
   "execution_count": 42,
   "id": "a110fa4e-bd84-4d44-a836-963614ab6205",
   "metadata": {},
   "outputs": [
    {
     "name": "stdout",
     "output_type": "stream",
     "text": [
      "{'analyze_query': {'query': {'moduleCodes': ['BT4221', 'CS4225', 'CS5425', 'CS5344']}}}\n",
      "\n",
      "----------------\n",
      "\n",
      "{'retrieve': {'context': [Document(metadata={'department': 'Computer Science', 'title': 'Big Data Systems for Data Science', 'moduleCode': 'CS5425', 'faculty': 'Computing', 'moduleCredit': '4'}, page_content='Data science incorporates varying elements and builds on techniques and theories from many fields, including statistics, data engineering, data mining, visualization, data warehousing, and high-performance computing systems with the goal of extracting meaning from big data and creating data products. Data science needs advanced computing systems such as Apache Hadoop and Spark to address big data challenges. In this course, students will learn various computing systems and optimization techniques that are used in data science with emphasis on the system building and algorithmic optimizations of these techniques.'), Document(metadata={'faculty': 'Computing', 'title': 'Advanced Analytics with Big Data Technologies', 'department': 'Information Systems and Analytics', 'moduleCode': 'BT4221', 'moduleCredit': '4'}, page_content='This course introduces students to key concepts in Big Data technologies, covering both foundational and emerging tools and practices. It explores the characteristics and challenges of handling large datasets in different environments. Students will develop practical skills in building and automating data pipelines, managing various forms of data processing, and applying advanced analytical techniques to derive business insights across diverse contexts. The course covers essential topics such as data storage, distributed processing and data streaming. By the end of the course, students will be equipped to apply advanced analytics using Big Data technologies to design and implement effective solutions.'), Document(metadata={'department': 'Computer Science', 'title': 'Big Data Systems for Data Science', 'faculty': 'Computing', 'moduleCode': 'CS4225', 'moduleCredit': '4'}, page_content='Data science incorporates varying elements and builds on techniques and theories from many fields, including statistics, data engineering, data mining, visualization, data warehousing, and high-performance computing systems with the goal of extracting meaning from big data and creating data products. Data science utilizes advanced computing systems such as Apache Hadoop and Spark to address big data challenges. In this course, students will learn various computing systems and optimization techniques that are used in data science with emphasis on the system building and algorithmic optimizations of these techniques.'), Document(metadata={'moduleCredit': '4', 'title': 'Big-Data Analytics Technology', 'department': 'Computer Science', 'faculty': 'Computing', 'moduleCode': 'CS5344'}, page_content='This course analysis of data which can not fit in main memory and application of such analysis to web applications. The topics covered include: map-reduce as a tool for creating parallel algorithms that operate on very large amount of data, similarity search, data-streaming processing, search engine technology, clustering of very large, high-dimensional datasets.')]}}\n",
      "\n",
      "----------------\n",
      "\n",
      "{'generate': {'answer': 'All the listed courses (BT4221, CS4225, CS5425, CS5344) are highly relevant if you are interested in big data. CS5425 and CS4225 focus on big data systems and algorithmic optimizations for data science, utilizing tools like Hadoop and Spark. BT4221 emphasizes advanced analytics with big data technologies, covering data pipelines and distributed processing, while CS5344 focuses on big-data analytics technology including map-reduce and data-streaming processing.'}}\n",
      "\n",
      "----------------\n",
      "\n"
     ]
    }
   ],
   "source": [
    "for step in graph.stream(\n",
    "    {\"question\": \"If im more interested in big data, should I choose BT4221 or CS4225 or CS5425 or CS5344?\"},\n",
    "    stream_mode=\"updates\",\n",
    "):\n",
    "    print(f\"{step}\\n\\n----------------\\n\")"
   ]
  },
  {
   "cell_type": "markdown",
   "id": "3839b0d2-66d7-47e7-a6fd-eca996989c06",
   "metadata": {},
   "source": [
    "## Add memory and tool calling\n",
    "Previously we represent user input (question),analysed_reuslt (query), retrieved context and generated answer as separate keys in the state. Converstional experiences can be naturally represented using a sequence of messages. Retrived documents and other artifacts can be incorporated into a message squence vis tool messages. Hence we represent the state of RAG using a sequence of messages. Specifically: <br>\n",
    "1. User input as a `HUmanMessage`\n",
    "2. Vector store query as an `AIMessage` with tool calls\n",
    "3. Retrieved documents as an `ToolMessage`\n",
    "4. Final response as a `AIMessage`\n",
    "\n",
    "The model for state is so versatile that LangGraph offers a built-in version for convinience:"
   ]
  },
  {
   "cell_type": "code",
   "execution_count": 43,
   "id": "d2c3bef5-1433-4367-a939-68b82d6c8f0e",
   "metadata": {},
   "outputs": [],
   "source": [
    "from langgraph.graph import MessagesState, StateGraph\n",
    "\n",
    "graph_builder = StateGraph(MessagesState)"
   ]
  },
  {
   "cell_type": "markdown",
   "id": "cd2bab49-5a5e-4f58-bad3-503cec036f43",
   "metadata": {},
   "source": [
    "We upgrade `ModuleQuery` to be more precise with regex"
   ]
  },
  {
   "cell_type": "code",
   "execution_count": 63,
   "id": "06597864-4a9a-4054-96d2-fdedb57bdbdb",
   "metadata": {},
   "outputs": [],
   "source": [
    "from typing_extensions import Annotated\n",
    "from typing import List\n",
    "\n",
    "\n",
    "MODULE_CODE_REGEX = r\"[A-Z]{2,3}\\d{4}[A-Z]?\"\n",
    "\n",
    "class ModuleQuery(TypedDict):\n",
    "    \"\"\"Structured schema for module search or comparison.\"\"\"\n",
    "    moduleCodes: Annotated[\n",
    "        List[str],\n",
    "        ...,\n",
    "        f\"List of module codes matching the pattern {MODULE_CODE_REGEX},  mentioned in the query, if any\"\n",
    "    ]"
   ]
  },
  {
   "cell_type": "markdown",
   "id": "dee9c4a8-bf7e-4d2c-908b-9fd422f34b1b",
   "metadata": {},
   "source": [
    "We change retrieve into a tool, instead of a sequence in state"
   ]
  },
  {
   "cell_type": "code",
   "execution_count": 64,
   "id": "4ee0c86c-6f58-4aa1-80b5-cda382ced38b",
   "metadata": {},
   "outputs": [],
   "source": [
    "from langchain_core.tools import tool\n",
    "\n",
    "\n",
    "@tool(response_format=\"content_and_artifact\")\n",
    "def retrieve(query: str):\n",
    "    # Step A: structured parsing of query\n",
    "    \"\"\"Retrieve module information by code if present, otherwise semantic search.\"\"\"\n",
    "    structured_llm = llm.with_structured_output(ModuleQuery)\n",
    "    modquery = structured_llm.invoke(query)\n",
    "\n",
    "    # Step B: conditional retrieval\n",
    "    if modquery[\"moduleCodes\"]:\n",
    "        filter_dict = {\"moduleCode\": {\"$in\": modquery[\"moduleCodes\"]}}\n",
    "        retrieved_docs = vector_store.similarity_search(\n",
    "            query=\"\",  # exact match, so semantic query can be empty\n",
    "            k=5,\n",
    "            filter=filter_dict\n",
    "        )\n",
    "    else:\n",
    "        retrieved_docs = vector_store.similarity_search(query, k=5)\n",
    "\n",
    "    # Step C: format return\n",
    "    serialized = \"\\n\\n\".join(\n",
    "        (\n",
    "            f\"Code: {doc.metadata.get('moduleCode')}\\n\"\n",
    "            f\"Title: {doc.metadata.get('title')}\\n\"\n",
    "            f\"Department: {doc.metadata.get('department')}\\n\"\n",
    "            f\"Faculty: {doc.metadata.get('faculty')}\\n\"\n",
    "            f\"Credits: {doc.metadata.get('moduleCredit')}\\n\"\n",
    "            f\"Description: {doc.page_content}\"\n",
    "        )\n",
    "        for doc in retrieved_docs\n",
    "    )\n",
    "    return serialized, retrieved_docs"
   ]
  },
  {
   "cell_type": "code",
   "execution_count": 65,
   "id": "11cf8601-b4a0-4733-bc10-552c94d90f85",
   "metadata": {},
   "outputs": [
    {
     "data": {
      "text/plain": [
       "\"Code: IS4401\\nTitle: Generative AI and Business Applications\\nDepartment: Information Systems and Analytics\\nFaculty: Computing\\nCredits: 4\\nDescription: Generative Artificial Intelligence (generative AI) has the ability to create new content such as text, image audio and video. Generative AI thus possesses an immense potential for creating business innovations and improving productivity. This course teaches students the underpinnings of generative AI models and to understand how to evaluate and choose the most appropriate model to solve a real-world problem. More importantly, students will also learn how to create generative AI applications using various approaches such as training custom models, using pretrained models and working with APIs. The course will also expose students to various emerging business applications of generative AI as part of the solutioning process.\\n\\nCode: CP1008\\nTitle: Learning with Generative AI Tools\\nDepartment: SoC Dean's Office\\nFaculty: Computing\\nCredits: 2\\nDescription: Generative Artificial Intelligence (GAI) tools are set to make a profound impact across many fields including business, science, music, art and literature. They are expected to disrupt the way students learn, presenting boundless opportunities and associated challenges. This course aims to prepare students to learn effectively with GAI tools and navigate the perils and pitfalls. A curated set of tools will be introduced to students with insightful discussion on how to work with them inside and outside the classroom. Students will also critique various societal issues associated with GAI tools.\\n\\nCode: NST2046\\nTitle: Deus Ex Machina:  Generative AI and Society\\nDepartment: NUS College Dean's Office\\nFaculty: NUS College\\nCredits: 4\\nDescription: Creativity was one of the characteristics humanity was always proud of. With recent technological advancements, machines are starting to get good at creating: not only useful, but sensical and beautiful things. It looks like almost every domain where humans create original work — from advertising to literature, from coding to graphics, from marketing to law — is up for reinvention. Would Generative AI become not just faster and cheaper, but a better alternative to human hands and minds? How would it affect the creative process? We will discuss these questions, look at limitations and perspectives and build generative AI models.\\n\\nCode: THE1005\\nTitle: Guide to Use of Generative AI Tools\\nDepartment: Center for Engl Lang Comms\\nFaculty: NUS\\nCredits: 0\\nDescription: THE1005 is a course that aims to prepare students for the appropriate use of generative AI (GenAI) tools for their learning. There are three parts to the course. Part 1 is an introduction to GenAI tools and the NUS interim policy on use of GenAI tools. Part 2 familiarizes students with situations in which GenAI tools can be used to support their learning and how students could use GenAI tools appropriately for their learning. Part 3 focuses on inherent challenges and limitations of GenAI tools. Throughout the course, case scenarios are presented to illustrate and reinforce learning.\\n\\nCode: IE4280\\nTitle: Generative AI and Web3 in Industrial Engineering\\nDepartment: Industrial Systems Engineering and Management\\nFaculty: College of Design and Engineering\\nCredits: 4\\nDescription: This course aims to introduce the emerging technologies in generative AI and Web3 to industrial engineers. Students will delve into Generative AI techniques and learn to harness the power of AI-generated content. Web3 technologies will be introduced and leveraged to solve industrial engineering problems. These technologies will revolutionise the next-generation industrial landscape and affect industrial engineers’ decision-making processes and strategies. In this course industrial engineers will gain the knowledge and skills necessary to help advise companies how to stay competitive in an increasingly digital and decentralised world with these cutting-edge technologies.\""
      ]
     },
     "execution_count": 65,
     "metadata": {},
     "output_type": "execute_result"
    }
   ],
   "source": [
    "answer = retrieve(\"What modules are good for generative AI?\")\n",
    "answer"
   ]
  },
  {
   "cell_type": "code",
   "execution_count": 67,
   "id": "cbd0e65d-363f-40e6-8baf-d95edae8c7a9",
   "metadata": {},
   "outputs": [],
   "source": [
    "from langchain_core.messages import SystemMessage\n",
    "from langgraph.prebuilt import ToolNode\n",
    "\n",
    "\n",
    "# Step 1: Generate an AIMessage that may include a tool-call to be sent.\n",
    "def query_or_respond(state: MessagesState):\n",
    "    \"\"\"Generate tool call for retrieval or respond.\"\"\"\n",
    "    llm_with_tools = llm.bind_tools([retrieve]) #LLM can \"see\" the tool once I bind it\n",
    "    response = llm_with_tools.invoke(state[\"messages\"])\n",
    "    # MessagesState appends messages to state instead of overwriting\n",
    "    return {\"messages\": [response]}\n",
    "\n",
    "\n",
    "# Step 2: Execute the retrieval. LangGraph utility node, something like if tool_call == \"retrieve\": run retrieve\n",
    "tools = ToolNode([retrieve])\n",
    "\n",
    "\n",
    "# Step 3: Generate a response using the retrieved content.\n",
    "def generate(state: MessagesState):\n",
    "    \"\"\"Generate answer.\"\"\"\n",
    "    # Get generated ToolMessages\n",
    "    recent_tool_messages = []\n",
    "    for message in reversed(state[\"messages\"]):\n",
    "        if message.type == \"tool\":\n",
    "            recent_tool_messages.append(message)\n",
    "        else:\n",
    "            break\n",
    "    tool_messages = recent_tool_messages[::-1]\n",
    "\n",
    "    # Format into prompt\n",
    "    docs_content = \"\\n\\n\".join(doc.content for doc in tool_messages)\n",
    "    system_message_content = (\n",
    "        \"You are an assistant for question-answering tasks. \"\n",
    "        \"Use the following pieces of retrieved context to answer \"\n",
    "        \"the question. If you don't know the answer, say that you \"\n",
    "        \"don't know. Use three sentences maximum and keep the \"\n",
    "        \"answer concise.\"\n",
    "        \"\\n\\n\"\n",
    "        f\"{docs_content}\"\n",
    "    )\n",
    "    conversation_messages = [\n",
    "        message\n",
    "        for message in state[\"messages\"]\n",
    "        if message.type in (\"human\", \"system\")\n",
    "        or (message.type == \"ai\" and not message.tool_calls)\n",
    "    ]\n",
    "    prompt = [SystemMessage(system_message_content)] + conversation_messages\n",
    "\n",
    "    # Run\n",
    "    response = llm.invoke(prompt)\n",
    "    return {\"messages\": [response]}"
   ]
  },
  {
   "cell_type": "code",
   "execution_count": 68,
   "id": "51754bf2-be35-4244-93d9-c636dc0e427b",
   "metadata": {},
   "outputs": [],
   "source": [
    "from langgraph.graph import END\n",
    "from langgraph.prebuilt import ToolNode, tools_condition\n",
    "\n",
    "graph_builder.add_node(query_or_respond)\n",
    "graph_builder.add_node(tools)\n",
    "graph_builder.add_node(generate)\n",
    "\n",
    "graph_builder.set_entry_point(\"query_or_respond\")\n",
    "graph_builder.add_conditional_edges(\n",
    "    \"query_or_respond\",\n",
    "    tools_condition,\n",
    "    {END: END, \"tools\": \"tools\"},\n",
    ")\n",
    "graph_builder.add_edge(\"tools\", \"generate\")\n",
    "graph_builder.add_edge(\"generate\", END)\n",
    "\n",
    "graph = graph_builder.compile()"
   ]
  },
  {
   "cell_type": "code",
   "execution_count": 69,
   "id": "1203d9b2-33ae-4a61-91fe-17bfe9adbcba",
   "metadata": {},
   "outputs": [
    {
     "data": {
      "image/png": "[encoded data removed]",
      "text/plain": [
       "<IPython.core.display.Image object>"
      ]
     },
     "metadata": {},
     "output_type": "display_data"
    }
   ],
   "source": [
    "from IPython.display import Image, display\n",
    "\n",
    "display(Image(graph.get_graph().draw_mermaid_png()))"
   ]
  },
  {
   "cell_type": "markdown",
   "id": "18878eed-b902-4531-888a-fe1db814d26f",
   "metadata": {},
   "source": [
    "## Some examples to test "
   ]
  },
  {
   "cell_type": "code",
   "execution_count": 70,
   "id": "becffcb4-faa4-4bcb-8de9-258bd292bae4",
   "metadata": {},
   "outputs": [
    {
     "name": "stdout",
     "output_type": "stream",
     "text": [
      "================================\u001b[1m Human Message \u001b[0m=================================\n",
      "\n",
      "Hello\n",
      "==================================\u001b[1m Ai Message \u001b[0m==================================\n",
      "\n",
      "Hello! How can I help you today?\n"
     ]
    }
   ],
   "source": [
    "input_message = \"Hello\"\n",
    "\n",
    "for step in graph.stream(\n",
    "    {\"messages\": [{\"role\": \"user\", \"content\": input_message}]},\n",
    "    stream_mode=\"values\",\n",
    "):\n",
    "    step[\"messages\"][-1].pretty_print()"
   ]
  },
  {
   "cell_type": "code",
   "execution_count": 71,
   "id": "566e243b-ad8c-4915-94ed-ccbe6c58e679",
   "metadata": {},
   "outputs": [
    {
     "name": "stdout",
     "output_type": "stream",
     "text": [
      "================================\u001b[1m Human Message \u001b[0m=================================\n",
      "\n",
      "What modules should I take for accounting?\n",
      "==================================\u001b[1m Ai Message \u001b[0m==================================\n",
      "Tool Calls:\n",
      "  retrieve (e196e805-8857-4dc5-8cf8-2698d66d56fd)\n",
      " Call ID: e196e805-8857-4dc5-8cf8-2698d66d56fd\n",
      "  Args:\n",
      "    query: accounting modules\n",
      "=================================\u001b[1m Tool Message \u001b[0m=================================\n",
      "Name: retrieve\n",
      "\n",
      "Code: ACC2706\n",
      "Title: Managerial Accounting\n",
      "Department: Accounting\n",
      "Faculty: NUS Business School\n",
      "Credits: 4\n",
      "Description: This course covers major concepts, tools and techniques in managerial accounting. It provides students with an appreciation of how managerial accounting evolves with changes in the business environment and why the usefulness of managerial accounting systems depends on the organisational context. The emphasis is on the use of managerial accounting information for decision-making, planning, and controlling activities. Students are introduced to both traditional and contemporary managerial accounting concepts and techniques.\n",
      "\n",
      "Code: BMT5103\n",
      "Title: Managerial Planning and Control\n",
      "Department: BIZ Dean's Office\n",
      "Faculty: NUS Business School\n",
      "Credits: 4\n",
      "Description: This course covers major concepts, tools, and techniques in management accounting that influence managers in their decision making and are intended for internal management purposes. This course emphasizes the use of financial and operating information for decision-making, planning, and controlling activities.\n",
      "\n",
      "Code: ACC4612D\n",
      "Title: SIA: Advanced Accounting Theory\n",
      "Department: Accounting\n",
      "Faculty: NUS Business School\n",
      "Credits: 4\n",
      "Description: This course is designed to prepare accounting honours students with the necessary knowledge and skills to complete their honour theses. It is also suitable for students with an interest in gaining an understanding of important accounting issues such as earnings management, analyst and management earnings forecasts, voluntary disclosure, and accounting-based valuation.\n",
      "\n",
      "Code: ACC4761C\n",
      "Title: Seminars in Accounting: Advanced Accounting Theory\n",
      "Department: Accounting\n",
      "Faculty: NUS Business School\n",
      "Credits: 4\n",
      "Description: This course is designed to prepare accounting honours students with the necessary knowledge and skills to complete their honour theses. It is also suitable for students with an interest in gaining an understanding of important accounting issues such as earnings management, analyst and management earnings forecasts, voluntary disclosure, and accounting-based valuation.\n",
      "\n",
      "Code: ACC1701XB\n",
      "Title: Accounting for Decision Makers\n",
      "Department: Accounting\n",
      "Faculty: NUS Business School\n",
      "Credits: 4\n",
      "Description: The course provides an introduction to accounting from a user perspective. Financial reporting is covered from the viewpoint of an external investor. The focus is on how accounting can help investors make better decisions. Book-keeping and preparation of financial statements are also covered at an introductory level, as investors need to be aware of how the financial statements are derived.\n",
      "==================================\u001b[1m Ai Message \u001b[0m==================================\n",
      "\n",
      "For accounting, you could consider modules such as ACC2706 Managerial Accounting, ACC4612D SIA: Advanced Accounting Theory, ACC4761C Seminars in Accounting: Advanced Accounting Theory, and ACC1701XB Accounting for Decision Makers. Additionally, BMT5103 Managerial Planning and Control also covers management accounting concepts. All these modules are offered by the NUS Business School, primarily from the Accounting Department.\n"
     ]
    }
   ],
   "source": [
    "input_message = \"What modules should I take for accounting?\"\n",
    "\n",
    "for step in graph.stream(\n",
    "    {\"messages\": [{\"role\": \"user\", \"content\": input_message}]},\n",
    "    stream_mode=\"values\",\n",
    "):\n",
    "    step[\"messages\"][-1].pretty_print()"
   ]
  },
  {
   "cell_type": "code",
   "execution_count": 72,
   "id": "7d5b8c5c-5ee0-4030-9fa5-50ac5516c1d3",
   "metadata": {},
   "outputs": [
    {
     "name": "stdout",
     "output_type": "stream",
     "text": [
      "================================\u001b[1m Human Message \u001b[0m=================================\n",
      "\n",
      "What is the difference with BT4222 and ACC2706?\n",
      "==================================\u001b[1m Ai Message \u001b[0m==================================\n",
      "Tool Calls:\n",
      "  retrieve (9d21f7ac-ee48-41c1-8587-c8c52645986a)\n",
      " Call ID: 9d21f7ac-ee48-41c1-8587-c8c52645986a\n",
      "  Args:\n",
      "    query: BT4222\n",
      "  retrieve (b26d146d-7473-4509-a858-bd9dcb09f867)\n",
      " Call ID: b26d146d-7473-4509-a858-bd9dcb09f867\n",
      "  Args:\n",
      "    query: ACC2706\n",
      "=================================\u001b[1m Tool Message \u001b[0m=================================\n",
      "Name: retrieve\n",
      "\n",
      "Code: ACC2706\n",
      "Title: Managerial Accounting\n",
      "Department: Accounting\n",
      "Faculty: NUS Business School\n",
      "Credits: 4\n",
      "Description: This course covers major concepts, tools and techniques in managerial accounting. It provides students with an appreciation of how managerial accounting evolves with changes in the business environment and why the usefulness of managerial accounting systems depends on the organisational context. The emphasis is on the use of managerial accounting information for decision-making, planning, and controlling activities. Students are introduced to both traditional and contemporary managerial accounting concepts and techniques.\n",
      "==================================\u001b[1m Ai Message \u001b[0m==================================\n",
      "\n",
      "BT4222, \"Mining Web Data for Business Insights,\" focuses on extracting and analyzing unstructured web data using techniques like machine learning and large language models for business insights, and is offered by the Faculty of Computing. In contrast, ACC2706, \"Managerial Accounting,\" covers concepts and tools for managerial accounting, emphasizing their use in decision-making, planning, and controlling activities within an organizational context. This course is offered by the NUS Business School's Accounting Department.\n"
     ]
    }
   ],
   "source": [
    "input_message = \"What is the difference with BT4222 and ACC2706?\"\n",
    "\n",
    "for step in graph.stream(\n",
    "    {\"messages\": [{\"role\": \"user\", \"content\": input_message}]},\n",
    "    stream_mode=\"values\",\n",
    "):\n",
    "    step[\"messages\"][-1].pretty_print()"
   ]
  },
  {
   "cell_type": "code",
   "execution_count": 73,
   "id": "7abfba84-e3c4-4e43-9060-cf7af8c39495",
   "metadata": {},
   "outputs": [
    {
     "name": "stdout",
     "output_type": "stream",
     "text": [
      "================================\u001b[1m Human Message \u001b[0m=================================\n",
      "\n",
      "What question did i ask previously?\n",
      "==================================\u001b[1m Ai Message \u001b[0m==================================\n",
      "\n",
      "I do not have memory of past conversations. Can you please repeat the question?\n"
     ]
    }
   ],
   "source": [
    "input_message = \"What question did i ask previously?\"\n",
    "\n",
    "for step in graph.stream(\n",
    "    {\"messages\": [{\"role\": \"user\", \"content\": input_message}]},\n",
    "    stream_mode=\"values\",\n",
    "):\n",
    "    step[\"messages\"][-1].pretty_print()"
   ]
  },
  {
   "cell_type": "markdown",
   "id": "d3a85a9a-817b-493e-b9c9-5c52aa8c99ed",
   "metadata": {},
   "source": [
    "## Add memory"
   ]
  },
  {
   "cell_type": "code",
   "execution_count": 74,
   "id": "e78a38d9-24ac-4179-9156-750239ee5b69",
   "metadata": {},
   "outputs": [],
   "source": [
    "from langgraph.checkpoint.memory import MemorySaver\n",
    "\n",
    "memory = MemorySaver()\n",
    "graph = graph_builder.compile(checkpointer=memory)\n",
    "\n",
    "# Specify an ID for the thread\n",
    "config = {\"configurable\": {\"thread_id\": \"abc123\"}}"
   ]
  },
  {
   "cell_type": "code",
   "execution_count": 75,
   "id": "081b91f6-98ae-49bd-b55c-98218b5b13bc",
   "metadata": {},
   "outputs": [
    {
     "name": "stdout",
     "output_type": "stream",
     "text": [
      "================================\u001b[1m Human Message \u001b[0m=================================\n",
      "\n",
      "What is the difference with BT4222 and ACC2706?\n",
      "==================================\u001b[1m Ai Message \u001b[0m==================================\n",
      "Tool Calls:\n",
      "  retrieve (692aa369-8ae5-4146-8ed0-3c9d9f264ce3)\n",
      " Call ID: 692aa369-8ae5-4146-8ed0-3c9d9f264ce3\n",
      "  Args:\n",
      "    query: BT4222\n",
      "  retrieve (68fda9b0-13a1-475c-bfc4-13b526e30c7e)\n",
      " Call ID: 68fda9b0-13a1-475c-bfc4-13b526e30c7e\n",
      "  Args:\n",
      "    query: ACC2706\n",
      "=================================\u001b[1m Tool Message \u001b[0m=================================\n",
      "Name: retrieve\n",
      "\n",
      "Code: ACC2706\n",
      "Title: Managerial Accounting\n",
      "Department: Accounting\n",
      "Faculty: NUS Business School\n",
      "Credits: 4\n",
      "Description: This course covers major concepts, tools and techniques in managerial accounting. It provides students with an appreciation of how managerial accounting evolves with changes in the business environment and why the usefulness of managerial accounting systems depends on the organisational context. The emphasis is on the use of managerial accounting information for decision-making, planning, and controlling activities. Students are introduced to both traditional and contemporary managerial accounting concepts and techniques.\n",
      "==================================\u001b[1m Ai Message \u001b[0m==================================\n",
      "\n",
      "BT4222, \"Mining Web Data for Business Insights,\" is offered by the Department of Information Systems and Analytics in the Faculty of Computing and focuses on deriving insights from unstructured web data using methods like APIs, NLP, and machine learning. In contrast, ACC2706, \"Managerial Accounting,\" is from the Department of Accounting in the NUS Business School and covers major concepts, tools, and techniques in managerial accounting for decision-making, planning, and controlling activities. The former is technical and data-centric, while the latter is focused on financial and operational accounting.\n"
     ]
    }
   ],
   "source": [
    "input_message = \"What is the difference with BT4222 and ACC2706?\"\n",
    "\n",
    "for step in graph.stream(\n",
    "    {\"messages\": [{\"role\": \"user\", \"content\": input_message}]},\n",
    "    stream_mode=\"values\",\n",
    "    config=config,\n",
    "):\n",
    "    step[\"messages\"][-1].pretty_print()"
   ]
  },
  {
   "cell_type": "code",
   "execution_count": 76,
   "id": "8ae5e558-0019-4d79-84d5-4b1d3d156579",
   "metadata": {},
   "outputs": [
    {
     "name": "stdout",
     "output_type": "stream",
     "text": [
      "================================\u001b[1m Human Message \u001b[0m=================================\n",
      "\n",
      "What modules did I compare previously?\n",
      "==================================\u001b[1m Ai Message \u001b[0m==================================\n",
      "\n",
      "You previously compared BT4222 and ACC2706.\n"
     ]
    }
   ],
   "source": [
    "input_message = \"What modules did I compare previously?\"\n",
    "\n",
    "for step in graph.stream(\n",
    "    {\"messages\": [{\"role\": \"user\", \"content\": input_message}]},\n",
    "    stream_mode=\"values\",\n",
    "    config=config,\n",
    "):\n",
    "    step[\"messages\"][-1].pretty_print()"
   ]
  }
 ],
 "metadata": {
  "kernelspec": {
   "display_name": "nus_rag",
   "language": "python",
   "name": "nus_rag"
  },
  "language_info": {
   "codemirror_mode": {
    "name": "ipython",
    "version": 3
   },
   "file_extension": ".py",
   "mimetype": "text/x-python",
   "name": "python",
   "nbconvert_exporter": "python",
   "pygments_lexer": "ipython3",
   "version": "3.13.7"
  }
 },
 "nbformat": 4,
 "nbformat_minor": 5
}
