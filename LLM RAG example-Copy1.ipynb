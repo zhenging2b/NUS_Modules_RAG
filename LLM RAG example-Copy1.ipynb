{
 "cells": [
  {
   "cell_type": "markdown",
   "id": "897a1270-9f49-4a3f-ba05-c06407af583d",
   "metadata": {},
   "source": [
    "# Set up\n",
    "## Model (Ollama)"
   ]
  },
  {
   "cell_type": "code",
   "execution_count": 1,
   "id": "9710d846-06dd-4c04-a368-d4fccac96bdd",
   "metadata": {},
   "outputs": [
    {
     "name": "stdin",
     "output_type": "stream",
     "text": [
      " ········\n"
     ]
    }
   ],
   "source": [
    "import getpass\n",
    "import os\n",
    "\n",
    "os.environ[\"LANGSMITH_TRACING\"] = \"true\"\n",
    "os.environ[\"LANGSMITH_API_KEY\"] = getpass.getpass()"
   ]
  },
  {
   "cell_type": "code",
   "execution_count": 21,
   "id": "65a9fce9-b2c9-4ffd-8d94-c85abe0943d8",
   "metadata": {},
   "outputs": [
    {
     "name": "stderr",
     "output_type": "stream",
     "text": [
      "C:\\Users\\zheng\\AppData\\Local\\Temp\\ipykernel_33632\\1497314851.py:3: LangChainDeprecationWarning: The class `Ollama` was deprecated in LangChain 0.3.1 and will be removed in 1.0.0. An updated version of the class exists in the :class:`~langchain-ollama package and should be used instead. To use it run `pip install -U :class:`~langchain-ollama` and import as `from :class:`~langchain_ollama import OllamaLLM``.\n",
      "  model = Ollama(model=\"gemma3\")\n"
     ]
    }
   ],
   "source": [
    "from langchain_community.llms import Ollama\n",
    "\n",
    "model = Ollama(model=\"gemma3\")"
   ]
  },
  {
   "cell_type": "markdown",
   "id": "fe0fcf9c-8c42-486a-9af3-5194b3ae9418",
   "metadata": {},
   "source": [
    "## Vector Store (Chroma)"
   ]
  },
  {
   "cell_type": "code",
   "execution_count": 3,
   "id": "38ca832c-7774-4f52-a42d-52d9b5568f7b",
   "metadata": {},
   "outputs": [
    {
     "name": "stderr",
     "output_type": "stream",
     "text": [
      "C:\\Users\\zheng\\AppData\\Local\\Temp\\ipykernel_33632\\788185801.py:5: LangChainDeprecationWarning: The class `Chroma` was deprecated in LangChain 0.2.9 and will be removed in 1.0. An updated version of the class exists in the :class:`~langchain-chroma package and should be used instead. To use it run `pip install -U :class:`~langchain-chroma` and import as `from :class:`~langchain_chroma import Chroma``.\n",
      "  vector_store = Chroma(\n"
     ]
    }
   ],
   "source": [
    "from langchain.vectorstores import Chroma\n",
    "from langchain_huggingface import HuggingFaceEmbeddings\n",
    "\n",
    "embedding = HuggingFaceEmbeddings(model_name=\"sentence-transformers/all-mpnet-base-v2\")\n",
    "vector_store = Chroma(\n",
    "    embedding_function=embedding,\n",
    "    persist_directory=\"./computing_modules_index\",  # where to load locally \n",
    ")"
   ]
  },
  {
   "cell_type": "code",
   "execution_count": 5,
   "id": "7503fb48-ecf8-494a-b740-d6a4451201e9",
   "metadata": {},
   "outputs": [
    {
     "name": "stderr",
     "output_type": "stream",
     "text": [
      "C:\\Users\\zheng\\AppData\\Local\\Temp\\ipykernel_33632\\1542722471.py:2: LangChainDeprecationWarning: The method `BaseRetriever.get_relevant_documents` was deprecated in langchain-core 0.1.46 and will be removed in 1.0. Use :meth:`~invoke` instead.\n",
      "  results = retriever.get_relevant_documents(\"Which modules are about generative AI for business leaders?\")\n"
     ]
    }
   ],
   "source": [
    "retriever = vector_store.as_retriever()\n",
    "results = retriever.get_relevant_documents(\"Which modules are about generative AI for business leaders?\")"
   ]
  },
  {
   "cell_type": "code",
   "execution_count": 6,
   "id": "c734fe3a-0ae4-4c8c-abd9-8d898f617a20",
   "metadata": {},
   "outputs": [
    {
     "data": {
      "text/plain": [
       "[Document(metadata={'moduleCredit': '4', 'department': 'Information Systems and Analytics', 'modeuleCode': 'IS4401', 'title': 'Generative AI and Business Applications', 'faculty': 'Computing'}, page_content='Generative Artificial Intelligence (generative AI) has the ability to create new content such as text, image audio and video. Generative AI thus possesses an immense potential for creating business innovations and improving productivity. This course teaches students the underpinnings of generative AI models and to understand how to evaluate and choose the most appropriate model to solve a real-world problem. More importantly, students will also learn how to create generative AI applications using various approaches such as training custom models, using pretrained models and working with APIs. The course will also expose students to various emerging business applications of generative AI as part of the solutioning process.'),\n",
       " Document(metadata={'modeuleCode': 'AI5202', 'moduleCredit': '4', 'title': 'Strategic Applications of Generative AI for Executives', 'faculty': 'Computing', 'department': 'Information Systems and Analytics'}, page_content='This course equips leaders with insights into the transformative power of generative artificial intelligence (AI) in the business realm. This course delves into the core principles of generative AI, including the machine learning model such as GPT, and its strategic applications across various industries. Participants will explore innovative uses in product development, content creation, decision-making, and customer engagement. Through case studies and practical examples, executives will learn to leverage generative AI to drive innovation, enhance competitiveness, and address ethical considerations. This course is essential for leaders aiming to capitalize on AI-driven opportunities in the digital age.'),\n",
       " Document(metadata={'department': 'Information Systems and Analytics', 'moduleCredit': '4', 'title': 'Executive Mastery of Artificial Intelligence: Foundations and Strategies', 'modeuleCode': 'AI5201', 'faculty': 'Computing'}, page_content='This course equips leaders with the essential knowledge of AI principles, technologies, and applications critical for strategic decision-making. This course covers AI and machine learning fundamentals, and the integration of AI with business strategies to drive innovation and efficiency. Designed for executives, it provides the insights needed to navigate the AI landscape, fostering a culture of innovation within organizations.'),\n",
       " Document(metadata={'faculty': 'Computing', 'title': 'Capstone Project', 'department': 'Information Systems and Analytics', 'moduleCredit': '8', 'modeuleCode': 'AI5212'}, page_content=\"The Capstone Project is a culminating course for the Executive Master's in AI and Digital Innovations, offering students the opportunity to apply their learning to real-world business challenges. Integrating concepts from AI, digital transformation, and innovative technologies, participants will work in teams to design, develop, and implement a project that addresses a significant issue in their industry. This intensive experience mirrors strategic decision-making and innovation at the executive level, ensuring practical application of theoretical knowledge.\")]"
      ]
     },
     "execution_count": 6,
     "metadata": {},
     "output_type": "execute_result"
    }
   ],
   "source": [
    "results"
   ]
  },
  {
   "cell_type": "code",
   "execution_count": 25,
   "id": "3a6896d5-5dfa-4c01-b9c7-ea617f235988",
   "metadata": {},
   "outputs": [
    {
     "data": {
      "text/plain": [
       "Document(metadata={'moduleCredit': '4', 'department': 'Information Systems and Analytics', 'modeuleCode': 'IS4401', 'title': 'Generative AI and Business Applications', 'faculty': 'Computing'}, page_content='Generative Artificial Intelligence (generative AI) has the ability to create new content such as text, image audio and video. Generative AI thus possesses an immense potential for creating business innovations and improving productivity. This course teaches students the underpinnings of generative AI models and to understand how to evaluate and choose the most appropriate model to solve a real-world problem. More importantly, students will also learn how to create generative AI applications using various approaches such as training custom models, using pretrained models and working with APIs. The course will also expose students to various emerging business applications of generative AI as part of the solutioning process.')"
      ]
     },
     "execution_count": 25,
     "metadata": {},
     "output_type": "execute_result"
    }
   ],
   "source": [
    "results[0]"
   ]
  },
  {
   "cell_type": "markdown",
   "id": "fb06298a-617c-4469-af85-9a6c5ac254a1",
   "metadata": {},
   "source": [
    "# RAG\n",
    "The following will be a simple demostartion on RAG"
   ]
  },
  {
   "cell_type": "code",
   "execution_count": 13,
   "id": "a0770c14-f334-40d1-934d-6d0422a123b5",
   "metadata": {},
   "outputs": [
    {
     "name": "stderr",
     "output_type": "stream",
     "text": [
      "C:\\Users\\zheng\\anaconda3\\envs\\langchain\\Lib\\site-packages\\langsmith\\client.py:272: LangSmithMissingAPIKeyWarning: API key must be provided when using hosted LangSmith API\n",
      "  warnings.warn(\n"
     ]
    }
   ],
   "source": [
    "from langchain import hub\n",
    "prompt_template = hub.pull(\"rlm/rag-prompt\")"
   ]
  },
  {
   "cell_type": "markdown",
   "id": "e42c4799-ef36-41a9-88c2-33d246ae3a83",
   "metadata": {},
   "source": [
    "### Short example"
   ]
  },
  {
   "cell_type": "code",
   "execution_count": 26,
   "id": "c55101b0-6cc7-407f-9da8-deaef1048142",
   "metadata": {},
   "outputs": [
    {
     "data": {
      "text/plain": [
       "HumanMessage(content=\"You are an assistant for question-answering tasks. Use the following pieces of retrieved context to answer the question. If you don't know the answer, just say that you don't know. Use three sentences maximum and keep the answer concise.\\nQuestion: Which modules are about generative AI for business leaders? \\nContext: Document(metadata={'moduleCredit': '4', 'department': 'Information Systems and Analytics', 'modeuleCode': 'IS4401', 'title': 'Generative AI and Business Applications', 'faculty': 'Computing'}, page_content='Generative Artificial Intelligence (generative AI) has the ability to create new content such as text, image audio and video. Generative AI thus possesses an immense potential for creating business innovations and improving productivity. This course teaches students the underpinnings of generative AI models and to understand how to evaluate and choose the most appropriate model to solve a real-world problem. More importantly, students will also learn how to create generative AI applications using various approaches such as training custom models, using pretrained models and working with APIs. The course will also expose students to various emerging business applications of generative AI as part of the solutioning process.') \\nAnswer:\", additional_kwargs={}, response_metadata={})"
      ]
     },
     "execution_count": 26,
     "metadata": {},
     "output_type": "execute_result"
    }
   ],
   "source": [
    "prompt = prompt_template.invoke({\"question\": \"Which modules are about generative AI for business leaders?\", \"context\":\"Document(metadata={'moduleCredit': '4', 'department': 'Information Systems and Analytics', 'modeuleCode': 'IS4401', 'title': 'Generative AI and Business Applications', 'faculty': 'Computing'}, page_content='Generative Artificial Intelligence (generative AI) has the ability to create new content such as text, image audio and video. Generative AI thus possesses an immense potential for creating business innovations and improving productivity. This course teaches students the underpinnings of generative AI models and to understand how to evaluate and choose the most appropriate model to solve a real-world problem. More importantly, students will also learn how to create generative AI applications using various approaches such as training custom models, using pretrained models and working with APIs. The course will also expose students to various emerging business applications of generative AI as part of the solutioning process.')\"})\n",
    "prompt.to_messages()[0]"
   ]
  },
  {
   "cell_type": "code",
   "execution_count": 27,
   "id": "3bb067de-f2b2-4056-b718-ec59cd0e6033",
   "metadata": {},
   "outputs": [
    {
     "data": {
      "text/plain": [
       "'This module, IS4401, focuses on generative AI and its applications in business. It covers topics like creating new content and improving productivity through generative AI. Additionally, students will learn how to build and evaluate generative AI applications for business solutions.'"
      ]
     },
     "execution_count": 27,
     "metadata": {},
     "output_type": "execute_result"
    }
   ],
   "source": [
    "response = model.invoke(prompt)\n",
    "response"
   ]
  },
  {
   "cell_type": "markdown",
   "id": "6da317ab-c02d-40b7-93db-97a6f4882573",
   "metadata": {},
   "source": [
    "### Class for RAG system"
   ]
  },
  {
   "cell_type": "code",
   "execution_count": 31,
   "id": "174d2a57-4944-47e9-a1ac-4b474d54e492",
   "metadata": {},
   "outputs": [
    {
     "ename": "ModuleNotFoundError",
     "evalue": "No module named 'langgraph'",
     "output_type": "error",
     "traceback": [
      "\u001b[31m---------------------------------------------------------------------------\u001b[39m",
      "\u001b[31mModuleNotFoundError\u001b[39m                       Traceback (most recent call last)",
      "\u001b[36mCell\u001b[39m\u001b[36m \u001b[39m\u001b[32mIn[31]\u001b[39m\u001b[32m, line 3\u001b[39m\n\u001b[32m      1\u001b[39m \u001b[38;5;28;01mfrom\u001b[39;00m\u001b[38;5;250m \u001b[39m\u001b[34;01mtyping_extensions\u001b[39;00m\u001b[38;5;250m \u001b[39m\u001b[38;5;28;01mimport\u001b[39;00m List, TypedDict\n\u001b[32m      2\u001b[39m \u001b[38;5;28;01mfrom\u001b[39;00m\u001b[38;5;250m \u001b[39m\u001b[34;01mlangchain_core\u001b[39;00m\u001b[34;01m.\u001b[39;00m\u001b[34;01mdocuments\u001b[39;00m\u001b[38;5;250m \u001b[39m\u001b[38;5;28;01mimport\u001b[39;00m Document\n\u001b[32m----> \u001b[39m\u001b[32m3\u001b[39m \u001b[38;5;28;01mfrom\u001b[39;00m\u001b[38;5;250m \u001b[39m\u001b[34;01mlanggraph\u001b[39;00m\u001b[34;01m.\u001b[39;00m\u001b[34;01mgraph\u001b[39;00m\u001b[38;5;250m \u001b[39m\u001b[38;5;28;01mimport\u001b[39;00m START, StateGraph\n\u001b[32m      5\u001b[39m \u001b[38;5;66;03m# Define state for application\u001b[39;00m\n\u001b[32m      6\u001b[39m \u001b[38;5;28;01mclass\u001b[39;00m\u001b[38;5;250m \u001b[39m\u001b[34;01mState\u001b[39;00m(TypedDict):\n",
      "\u001b[31mModuleNotFoundError\u001b[39m: No module named 'langgraph'"
     ]
    }
   ],
   "source": [
    "import getpass\n",
    "import os\n",
    "\n",
    "os.environ[\"LANGSMITH_TRACING\"] = \"true\"\n",
    "os.environ[\"LANGSMITH_API_KEY\"] = getpass.getpass()"
   ]
  }
 ],
 "metadata": {
  "kernelspec": {
   "display_name": "langchain",
   "language": "python",
   "name": "langchain"
  },
  "language_info": {
   "codemirror_mode": {
    "name": "ipython",
    "version": 3
   },
   "file_extension": ".py",
   "mimetype": "text/x-python",
   "name": "python",
   "nbconvert_exporter": "python",
   "pygments_lexer": "ipython3",
   "version": "3.12.11"
  }
 },
 "nbformat": 4,
 "nbformat_minor": 5
}
